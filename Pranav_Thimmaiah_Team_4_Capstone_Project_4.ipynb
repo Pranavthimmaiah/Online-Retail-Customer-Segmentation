{
  "nbformat": 4,
  "nbformat_minor": 0,
  "metadata": {
    "kernelspec": {
      "display_name": "Python 3",
      "language": "python",
      "name": "python3"
    },
    "language_info": {
      "codemirror_mode": {
        "name": "ipython",
        "version": 3
      },
      "file_extension": ".py",
      "mimetype": "text/x-python",
      "name": "python",
      "nbconvert_exporter": "python",
      "pygments_lexer": "ipython3",
      "version": "3.6.6"
    },
    "colab": {
      "name": "Pranav Thimmaiah-Team 4 - Capstone Project 4.ipynb",
      "provenance": [],
      "collapsed_sections": [],
      "toc_visible": true,
      "include_colab_link": true
    }
  },
  "cells": [
    {
      "cell_type": "markdown",
      "metadata": {
        "id": "view-in-github",
        "colab_type": "text"
      },
      "source": [
        "<a href=\"https://colab.research.google.com/github/Pranavthimmaiah/Online-Retail-Customer-Segmentation/blob/main/Pranav_Thimmaiah_Team_4_Capstone_Project_4.ipynb\" target=\"_parent\"><img src=\"https://colab.research.google.com/assets/colab-badge.svg\" alt=\"Open In Colab\"/></a>"
      ]
    },
    {
      "cell_type": "markdown",
      "metadata": {
        "id": "tOGC-qoyhJeX"
      },
      "source": [
        "# <b><u> Project Title : Online Retail Customer Segmentation. </u></b>"
      ]
    },
    {
      "cell_type": "markdown",
      "metadata": {
        "id": "Y06xIdG26kRF"
      },
      "source": [
        "## <b> Problem Description </b>\n",
        "\n",
        "### In this project, your task is to identify major customer segments on a transnational data set which contains all the transactions occurring between 01/12/2010 and 09/12/2011 for a UK-based and registered non-store online retail.The company mainly sells unique all-occasion gifts. Many customers of the company are wholesalers."
      ]
    },
    {
      "cell_type": "markdown",
      "metadata": {
        "id": "AlLxAtlziMbP"
      },
      "source": [
        "## <b> Data Description </b>\r\n",
        "\r\n",
        "### <b>Attribute Information: </b>\r\n",
        "\r\n",
        "* ### InvoiceNo: Invoice number. Nominal, a 6-digit integral number uniquely assigned to each transaction. If this code starts with letter 'c', it indicates a cancellation.\r\n",
        "* ### StockCode: Product (item) code. Nominal, a 5-digit integral number uniquely assigned to each distinct product.\r\n",
        "* ### Description: Product (item) name. Nominal.\r\n",
        "* ### Quantity: The quantities of each product (item) per transaction. Numeric.\r\n",
        "* ### InvoiceDate: Invice Date and time. Numeric, the day and time when each transaction was generated.\r\n",
        "* ### UnitPrice: Unit price. Numeric, Product price per unit in sterling.\r\n",
        "* ### CustomerID: Customer number. Nominal, a 5-digit integral number uniquely assigned to each customer.\r\n",
        "* ### Country: Country name. Nominal, the name of the country where each customer resides."
      ]
    },
    {
      "cell_type": "code",
      "metadata": {
        "id": "hu3fv_-JN_SN"
      },
      "source": [
        "# Importing the libraries\r\n",
        "import numpy as np\r\n",
        "import pandas as pd\r\n",
        "from numpy import math\r\n",
        "import xgboost\r\n",
        "from sklearn.preprocessing import MinMaxScaler\r\n",
        "from sklearn.preprocessing import MinMaxScaler\r\n",
        "from sklearn.model_selection import train_test_split\r\n",
        "from sklearn.linear_model import LinearRegression\r\n",
        "from sklearn.metrics import r2_score\r\n",
        "from sklearn.metrics import mean_squared_error\r\n",
        "from sklearn.linear_model import Lasso\r\n",
        "from sklearn.linear_model import Ridge\r\n",
        "import seaborn as sns\r\n",
        "from datetime import datetime\r\n",
        "import warnings\r\n",
        "warnings.filterwarnings(\"ignore\")\r\n",
        "import warnings\r\n",
        "from pylab import rcParams\r\n",
        "%matplotlib inline\r\n",
        "from sklearn.decomposition import PCA\r\n",
        "import matplotlib.pyplot as plt\r\n",
        "import seaborn as sns; sns.set()\r\n",
        "warnings.filterwarnings('ignore')\r\n",
        "from sklearn.feature_extraction.text import TfidfVectorizer\r\n",
        "import nltk"
      ],
      "execution_count": 1,
      "outputs": []
    },
    {
      "cell_type": "code",
      "metadata": {
        "colab": {
          "base_uri": "https://localhost:8080/"
        },
        "id": "-mGRRfrkjMnB",
        "outputId": "e70b8247-def0-4cdf-bd37-903697640f1a"
      },
      "source": [
        "from google.colab import drive\n",
        "drive.mount('/content/drive')"
      ],
      "execution_count": 3,
      "outputs": [
        {
          "output_type": "stream",
          "text": [
            "Mounted at /content/drive\n"
          ],
          "name": "stdout"
        }
      ]
    },
    {
      "cell_type": "code",
      "metadata": {
        "id": "W-6_aefkN_Vu"
      },
      "source": [
        "df=pd.read_excel('/content/drive/MyDrive/AlmaBetter/Cohort Aravali/Module 4/Week 4/Online Retail.xlsx')"
      ],
      "execution_count": 4,
      "outputs": []
    },
    {
      "cell_type": "code",
      "metadata": {
        "colab": {
          "base_uri": "https://localhost:8080/",
          "height": 289
        },
        "id": "oNOTEVNDN_ZL",
        "outputId": "32812fe1-7c00-41df-a211-ab7f58a7c306"
      },
      "source": [
        "df.head()"
      ],
      "execution_count": 5,
      "outputs": [
        {
          "output_type": "execute_result",
          "data": {
            "text/html": [
              "<div>\n",
              "<style scoped>\n",
              "    .dataframe tbody tr th:only-of-type {\n",
              "        vertical-align: middle;\n",
              "    }\n",
              "\n",
              "    .dataframe tbody tr th {\n",
              "        vertical-align: top;\n",
              "    }\n",
              "\n",
              "    .dataframe thead th {\n",
              "        text-align: right;\n",
              "    }\n",
              "</style>\n",
              "<table border=\"1\" class=\"dataframe\">\n",
              "  <thead>\n",
              "    <tr style=\"text-align: right;\">\n",
              "      <th></th>\n",
              "      <th>InvoiceNo</th>\n",
              "      <th>StockCode</th>\n",
              "      <th>Description</th>\n",
              "      <th>Quantity</th>\n",
              "      <th>InvoiceDate</th>\n",
              "      <th>UnitPrice</th>\n",
              "      <th>CustomerID</th>\n",
              "      <th>Country</th>\n",
              "    </tr>\n",
              "  </thead>\n",
              "  <tbody>\n",
              "    <tr>\n",
              "      <th>0</th>\n",
              "      <td>536365</td>\n",
              "      <td>85123A</td>\n",
              "      <td>WHITE HANGING HEART T-LIGHT HOLDER</td>\n",
              "      <td>6</td>\n",
              "      <td>2010-12-01 08:26:00</td>\n",
              "      <td>2.55</td>\n",
              "      <td>17850.0</td>\n",
              "      <td>United Kingdom</td>\n",
              "    </tr>\n",
              "    <tr>\n",
              "      <th>1</th>\n",
              "      <td>536365</td>\n",
              "      <td>71053</td>\n",
              "      <td>WHITE METAL LANTERN</td>\n",
              "      <td>6</td>\n",
              "      <td>2010-12-01 08:26:00</td>\n",
              "      <td>3.39</td>\n",
              "      <td>17850.0</td>\n",
              "      <td>United Kingdom</td>\n",
              "    </tr>\n",
              "    <tr>\n",
              "      <th>2</th>\n",
              "      <td>536365</td>\n",
              "      <td>84406B</td>\n",
              "      <td>CREAM CUPID HEARTS COAT HANGER</td>\n",
              "      <td>8</td>\n",
              "      <td>2010-12-01 08:26:00</td>\n",
              "      <td>2.75</td>\n",
              "      <td>17850.0</td>\n",
              "      <td>United Kingdom</td>\n",
              "    </tr>\n",
              "    <tr>\n",
              "      <th>3</th>\n",
              "      <td>536365</td>\n",
              "      <td>84029G</td>\n",
              "      <td>KNITTED UNION FLAG HOT WATER BOTTLE</td>\n",
              "      <td>6</td>\n",
              "      <td>2010-12-01 08:26:00</td>\n",
              "      <td>3.39</td>\n",
              "      <td>17850.0</td>\n",
              "      <td>United Kingdom</td>\n",
              "    </tr>\n",
              "    <tr>\n",
              "      <th>4</th>\n",
              "      <td>536365</td>\n",
              "      <td>84029E</td>\n",
              "      <td>RED WOOLLY HOTTIE WHITE HEART.</td>\n",
              "      <td>6</td>\n",
              "      <td>2010-12-01 08:26:00</td>\n",
              "      <td>3.39</td>\n",
              "      <td>17850.0</td>\n",
              "      <td>United Kingdom</td>\n",
              "    </tr>\n",
              "  </tbody>\n",
              "</table>\n",
              "</div>"
            ],
            "text/plain": [
              "  InvoiceNo StockCode  ... CustomerID         Country\n",
              "0    536365    85123A  ...    17850.0  United Kingdom\n",
              "1    536365     71053  ...    17850.0  United Kingdom\n",
              "2    536365    84406B  ...    17850.0  United Kingdom\n",
              "3    536365    84029G  ...    17850.0  United Kingdom\n",
              "4    536365    84029E  ...    17850.0  United Kingdom\n",
              "\n",
              "[5 rows x 8 columns]"
            ]
          },
          "metadata": {
            "tags": []
          },
          "execution_count": 5
        }
      ]
    },
    {
      "cell_type": "code",
      "metadata": {
        "colab": {
          "base_uri": "https://localhost:8080/"
        },
        "id": "WKu1_UroxxhS",
        "outputId": "d34b46ef-23bb-4f47-fb0e-4b0a4195a13f"
      },
      "source": [
        "df.shape"
      ],
      "execution_count": 6,
      "outputs": [
        {
          "output_type": "execute_result",
          "data": {
            "text/plain": [
              "(541909, 8)"
            ]
          },
          "metadata": {
            "tags": []
          },
          "execution_count": 6
        }
      ]
    },
    {
      "cell_type": "code",
      "metadata": {
        "colab": {
          "base_uri": "https://localhost:8080/"
        },
        "id": "KwPXfnjYN_fo",
        "outputId": "23c7b149-cc6c-4722-cf5b-3de36dbb8e46"
      },
      "source": [
        "df.info()"
      ],
      "execution_count": 7,
      "outputs": [
        {
          "output_type": "stream",
          "text": [
            "<class 'pandas.core.frame.DataFrame'>\n",
            "RangeIndex: 541909 entries, 0 to 541908\n",
            "Data columns (total 8 columns):\n",
            " #   Column       Non-Null Count   Dtype         \n",
            "---  ------       --------------   -----         \n",
            " 0   InvoiceNo    541909 non-null  object        \n",
            " 1   StockCode    541909 non-null  object        \n",
            " 2   Description  540455 non-null  object        \n",
            " 3   Quantity     541909 non-null  int64         \n",
            " 4   InvoiceDate  541909 non-null  datetime64[ns]\n",
            " 5   UnitPrice    541909 non-null  float64       \n",
            " 6   CustomerID   406829 non-null  float64       \n",
            " 7   Country      541909 non-null  object        \n",
            "dtypes: datetime64[ns](1), float64(2), int64(1), object(4)\n",
            "memory usage: 33.1+ MB\n"
          ],
          "name": "stdout"
        }
      ]
    },
    {
      "cell_type": "code",
      "metadata": {
        "id": "4Y9olX-Nxu3e"
      },
      "source": [
        "df.dropna(inplace=True)"
      ],
      "execution_count": 8,
      "outputs": []
    },
    {
      "cell_type": "code",
      "metadata": {
        "colab": {
          "base_uri": "https://localhost:8080/",
          "height": 289
        },
        "id": "hkvNlI86N_cO",
        "outputId": "58548601-e629-4cb5-84b8-e9855313a5cb"
      },
      "source": [
        "df.tail()"
      ],
      "execution_count": 9,
      "outputs": [
        {
          "output_type": "execute_result",
          "data": {
            "text/html": [
              "<div>\n",
              "<style scoped>\n",
              "    .dataframe tbody tr th:only-of-type {\n",
              "        vertical-align: middle;\n",
              "    }\n",
              "\n",
              "    .dataframe tbody tr th {\n",
              "        vertical-align: top;\n",
              "    }\n",
              "\n",
              "    .dataframe thead th {\n",
              "        text-align: right;\n",
              "    }\n",
              "</style>\n",
              "<table border=\"1\" class=\"dataframe\">\n",
              "  <thead>\n",
              "    <tr style=\"text-align: right;\">\n",
              "      <th></th>\n",
              "      <th>InvoiceNo</th>\n",
              "      <th>StockCode</th>\n",
              "      <th>Description</th>\n",
              "      <th>Quantity</th>\n",
              "      <th>InvoiceDate</th>\n",
              "      <th>UnitPrice</th>\n",
              "      <th>CustomerID</th>\n",
              "      <th>Country</th>\n",
              "    </tr>\n",
              "  </thead>\n",
              "  <tbody>\n",
              "    <tr>\n",
              "      <th>541904</th>\n",
              "      <td>581587</td>\n",
              "      <td>22613</td>\n",
              "      <td>PACK OF 20 SPACEBOY NAPKINS</td>\n",
              "      <td>12</td>\n",
              "      <td>2011-12-09 12:50:00</td>\n",
              "      <td>0.85</td>\n",
              "      <td>12680.0</td>\n",
              "      <td>France</td>\n",
              "    </tr>\n",
              "    <tr>\n",
              "      <th>541905</th>\n",
              "      <td>581587</td>\n",
              "      <td>22899</td>\n",
              "      <td>CHILDREN'S APRON DOLLY GIRL</td>\n",
              "      <td>6</td>\n",
              "      <td>2011-12-09 12:50:00</td>\n",
              "      <td>2.10</td>\n",
              "      <td>12680.0</td>\n",
              "      <td>France</td>\n",
              "    </tr>\n",
              "    <tr>\n",
              "      <th>541906</th>\n",
              "      <td>581587</td>\n",
              "      <td>23254</td>\n",
              "      <td>CHILDRENS CUTLERY DOLLY GIRL</td>\n",
              "      <td>4</td>\n",
              "      <td>2011-12-09 12:50:00</td>\n",
              "      <td>4.15</td>\n",
              "      <td>12680.0</td>\n",
              "      <td>France</td>\n",
              "    </tr>\n",
              "    <tr>\n",
              "      <th>541907</th>\n",
              "      <td>581587</td>\n",
              "      <td>23255</td>\n",
              "      <td>CHILDRENS CUTLERY CIRCUS PARADE</td>\n",
              "      <td>4</td>\n",
              "      <td>2011-12-09 12:50:00</td>\n",
              "      <td>4.15</td>\n",
              "      <td>12680.0</td>\n",
              "      <td>France</td>\n",
              "    </tr>\n",
              "    <tr>\n",
              "      <th>541908</th>\n",
              "      <td>581587</td>\n",
              "      <td>22138</td>\n",
              "      <td>BAKING SET 9 PIECE RETROSPOT</td>\n",
              "      <td>3</td>\n",
              "      <td>2011-12-09 12:50:00</td>\n",
              "      <td>4.95</td>\n",
              "      <td>12680.0</td>\n",
              "      <td>France</td>\n",
              "    </tr>\n",
              "  </tbody>\n",
              "</table>\n",
              "</div>"
            ],
            "text/plain": [
              "       InvoiceNo StockCode  ... CustomerID  Country\n",
              "541904    581587     22613  ...    12680.0   France\n",
              "541905    581587     22899  ...    12680.0   France\n",
              "541906    581587     23254  ...    12680.0   France\n",
              "541907    581587     23255  ...    12680.0   France\n",
              "541908    581587     22138  ...    12680.0   France\n",
              "\n",
              "[5 rows x 8 columns]"
            ]
          },
          "metadata": {
            "tags": []
          },
          "execution_count": 9
        }
      ]
    },
    {
      "cell_type": "code",
      "metadata": {
        "colab": {
          "base_uri": "https://localhost:8080/"
        },
        "id": "TzK0CfJQyDCl",
        "outputId": "1cff284f-a8b2-4c70-d6ee-7d947cfbb3d9"
      },
      "source": [
        "df.info()"
      ],
      "execution_count": 10,
      "outputs": [
        {
          "output_type": "stream",
          "text": [
            "<class 'pandas.core.frame.DataFrame'>\n",
            "Int64Index: 406829 entries, 0 to 541908\n",
            "Data columns (total 8 columns):\n",
            " #   Column       Non-Null Count   Dtype         \n",
            "---  ------       --------------   -----         \n",
            " 0   InvoiceNo    406829 non-null  object        \n",
            " 1   StockCode    406829 non-null  object        \n",
            " 2   Description  406829 non-null  object        \n",
            " 3   Quantity     406829 non-null  int64         \n",
            " 4   InvoiceDate  406829 non-null  datetime64[ns]\n",
            " 5   UnitPrice    406829 non-null  float64       \n",
            " 6   CustomerID   406829 non-null  float64       \n",
            " 7   Country      406829 non-null  object        \n",
            "dtypes: datetime64[ns](1), float64(2), int64(1), object(4)\n",
            "memory usage: 27.9+ MB\n"
          ],
          "name": "stdout"
        }
      ]
    },
    {
      "cell_type": "code",
      "metadata": {
        "colab": {
          "base_uri": "https://localhost:8080/"
        },
        "id": "puyvEPi-yGaJ",
        "outputId": "54cb3501-2e76-415a-f629-a3f745d9c9c3"
      },
      "source": [
        "df.shape"
      ],
      "execution_count": 11,
      "outputs": [
        {
          "output_type": "execute_result",
          "data": {
            "text/plain": [
              "(406829, 8)"
            ]
          },
          "metadata": {
            "tags": []
          },
          "execution_count": 11
        }
      ]
    },
    {
      "cell_type": "code",
      "metadata": {
        "id": "QdmqmIymqH3V"
      },
      "source": [
        "df['InvoiceNo'] = df['InvoiceNo'].astype('str')"
      ],
      "execution_count": 12,
      "outputs": []
    },
    {
      "cell_type": "code",
      "metadata": {
        "id": "EtVGYweboV0y"
      },
      "source": [
        "df=df[~df['InvoiceNo'].str.contains('C')]"
      ],
      "execution_count": 13,
      "outputs": []
    },
    {
      "cell_type": "code",
      "metadata": {
        "colab": {
          "base_uri": "https://localhost:8080/"
        },
        "id": "yCMcR82ryO88",
        "outputId": "1b77b54f-1f48-4f83-dbde-a6cf22f1d9bd"
      },
      "source": [
        "df.shape"
      ],
      "execution_count": 14,
      "outputs": [
        {
          "output_type": "execute_result",
          "data": {
            "text/plain": [
              "(397924, 8)"
            ]
          },
          "metadata": {
            "tags": []
          },
          "execution_count": 14
        }
      ]
    },
    {
      "cell_type": "code",
      "metadata": {
        "colab": {
          "base_uri": "https://localhost:8080/",
          "height": 294
        },
        "id": "vBvDw1wrN_jC",
        "outputId": "0e5783fa-ddaa-4467-b73e-3c0dbb27d460"
      },
      "source": [
        "df.describe()"
      ],
      "execution_count": 15,
      "outputs": [
        {
          "output_type": "execute_result",
          "data": {
            "text/html": [
              "<div>\n",
              "<style scoped>\n",
              "    .dataframe tbody tr th:only-of-type {\n",
              "        vertical-align: middle;\n",
              "    }\n",
              "\n",
              "    .dataframe tbody tr th {\n",
              "        vertical-align: top;\n",
              "    }\n",
              "\n",
              "    .dataframe thead th {\n",
              "        text-align: right;\n",
              "    }\n",
              "</style>\n",
              "<table border=\"1\" class=\"dataframe\">\n",
              "  <thead>\n",
              "    <tr style=\"text-align: right;\">\n",
              "      <th></th>\n",
              "      <th>Quantity</th>\n",
              "      <th>UnitPrice</th>\n",
              "      <th>CustomerID</th>\n",
              "    </tr>\n",
              "  </thead>\n",
              "  <tbody>\n",
              "    <tr>\n",
              "      <th>count</th>\n",
              "      <td>397924.000000</td>\n",
              "      <td>397924.000000</td>\n",
              "      <td>397924.000000</td>\n",
              "    </tr>\n",
              "    <tr>\n",
              "      <th>mean</th>\n",
              "      <td>13.021823</td>\n",
              "      <td>3.116174</td>\n",
              "      <td>15294.315171</td>\n",
              "    </tr>\n",
              "    <tr>\n",
              "      <th>std</th>\n",
              "      <td>180.420210</td>\n",
              "      <td>22.096788</td>\n",
              "      <td>1713.169877</td>\n",
              "    </tr>\n",
              "    <tr>\n",
              "      <th>min</th>\n",
              "      <td>1.000000</td>\n",
              "      <td>0.000000</td>\n",
              "      <td>12346.000000</td>\n",
              "    </tr>\n",
              "    <tr>\n",
              "      <th>25%</th>\n",
              "      <td>2.000000</td>\n",
              "      <td>1.250000</td>\n",
              "      <td>13969.000000</td>\n",
              "    </tr>\n",
              "    <tr>\n",
              "      <th>50%</th>\n",
              "      <td>6.000000</td>\n",
              "      <td>1.950000</td>\n",
              "      <td>15159.000000</td>\n",
              "    </tr>\n",
              "    <tr>\n",
              "      <th>75%</th>\n",
              "      <td>12.000000</td>\n",
              "      <td>3.750000</td>\n",
              "      <td>16795.000000</td>\n",
              "    </tr>\n",
              "    <tr>\n",
              "      <th>max</th>\n",
              "      <td>80995.000000</td>\n",
              "      <td>8142.750000</td>\n",
              "      <td>18287.000000</td>\n",
              "    </tr>\n",
              "  </tbody>\n",
              "</table>\n",
              "</div>"
            ],
            "text/plain": [
              "            Quantity      UnitPrice     CustomerID\n",
              "count  397924.000000  397924.000000  397924.000000\n",
              "mean       13.021823       3.116174   15294.315171\n",
              "std       180.420210      22.096788    1713.169877\n",
              "min         1.000000       0.000000   12346.000000\n",
              "25%         2.000000       1.250000   13969.000000\n",
              "50%         6.000000       1.950000   15159.000000\n",
              "75%        12.000000       3.750000   16795.000000\n",
              "max     80995.000000    8142.750000   18287.000000"
            ]
          },
          "metadata": {
            "tags": []
          },
          "execution_count": 15
        }
      ]
    },
    {
      "cell_type": "code",
      "metadata": {
        "colab": {
          "base_uri": "https://localhost:8080/"
        },
        "id": "BvNAm3uRPRIA",
        "outputId": "8c1e9c4b-7c57-4775-f3df-e1e385887341"
      },
      "source": [
        "df.shape"
      ],
      "execution_count": 16,
      "outputs": [
        {
          "output_type": "execute_result",
          "data": {
            "text/plain": [
              "(397924, 8)"
            ]
          },
          "metadata": {
            "tags": []
          },
          "execution_count": 16
        }
      ]
    },
    {
      "cell_type": "code",
      "metadata": {
        "colab": {
          "base_uri": "https://localhost:8080/"
        },
        "id": "5HbsqJ7tPTzw",
        "outputId": "c69976b2-2f8b-453b-a60f-dddce58dd985"
      },
      "source": [
        "df.columns"
      ],
      "execution_count": 17,
      "outputs": [
        {
          "output_type": "execute_result",
          "data": {
            "text/plain": [
              "Index(['InvoiceNo', 'StockCode', 'Description', 'Quantity', 'InvoiceDate',\n",
              "       'UnitPrice', 'CustomerID', 'Country'],\n",
              "      dtype='object')"
            ]
          },
          "metadata": {
            "tags": []
          },
          "execution_count": 17
        }
      ]
    },
    {
      "cell_type": "markdown",
      "metadata": {
        "id": "ac2YsQgQmL_L"
      },
      "source": [
        "#**Exploratory data analysis**"
      ]
    },
    {
      "cell_type": "code",
      "metadata": {
        "colab": {
          "base_uri": "https://localhost:8080/",
          "height": 202
        },
        "id": "keX13LNHPWa2",
        "outputId": "f4cf5bac-520e-4238-a9f9-f375c11fb79e"
      },
      "source": [
        "country_df=df['Country'].value_counts().reset_index()\r\n",
        "country_df.rename(columns={'index': 'Country_Name'}, inplace=True)\r\n",
        "country_df.rename(columns={'Country': 'Count'}, inplace=True)\r\n",
        "country_df.head()"
      ],
      "execution_count": 18,
      "outputs": [
        {
          "output_type": "execute_result",
          "data": {
            "text/html": [
              "<div>\n",
              "<style scoped>\n",
              "    .dataframe tbody tr th:only-of-type {\n",
              "        vertical-align: middle;\n",
              "    }\n",
              "\n",
              "    .dataframe tbody tr th {\n",
              "        vertical-align: top;\n",
              "    }\n",
              "\n",
              "    .dataframe thead th {\n",
              "        text-align: right;\n",
              "    }\n",
              "</style>\n",
              "<table border=\"1\" class=\"dataframe\">\n",
              "  <thead>\n",
              "    <tr style=\"text-align: right;\">\n",
              "      <th></th>\n",
              "      <th>Country_Name</th>\n",
              "      <th>Count</th>\n",
              "    </tr>\n",
              "  </thead>\n",
              "  <tbody>\n",
              "    <tr>\n",
              "      <th>0</th>\n",
              "      <td>United Kingdom</td>\n",
              "      <td>354345</td>\n",
              "    </tr>\n",
              "    <tr>\n",
              "      <th>1</th>\n",
              "      <td>Germany</td>\n",
              "      <td>9042</td>\n",
              "    </tr>\n",
              "    <tr>\n",
              "      <th>2</th>\n",
              "      <td>France</td>\n",
              "      <td>8342</td>\n",
              "    </tr>\n",
              "    <tr>\n",
              "      <th>3</th>\n",
              "      <td>EIRE</td>\n",
              "      <td>7238</td>\n",
              "    </tr>\n",
              "    <tr>\n",
              "      <th>4</th>\n",
              "      <td>Spain</td>\n",
              "      <td>2485</td>\n",
              "    </tr>\n",
              "  </tbody>\n",
              "</table>\n",
              "</div>"
            ],
            "text/plain": [
              "     Country_Name   Count\n",
              "0  United Kingdom  354345\n",
              "1         Germany    9042\n",
              "2          France    8342\n",
              "3            EIRE    7238\n",
              "4           Spain    2485"
            ]
          },
          "metadata": {
            "tags": []
          },
          "execution_count": 18
        }
      ]
    },
    {
      "cell_type": "code",
      "metadata": {
        "colab": {
          "base_uri": "https://localhost:8080/",
          "height": 202
        },
        "id": "SjNzofF89u0p",
        "outputId": "e6e0510c-dfa7-4e5e-9122-43981b0b03ae"
      },
      "source": [
        "country_df.tail()"
      ],
      "execution_count": 19,
      "outputs": [
        {
          "output_type": "execute_result",
          "data": {
            "text/html": [
              "<div>\n",
              "<style scoped>\n",
              "    .dataframe tbody tr th:only-of-type {\n",
              "        vertical-align: middle;\n",
              "    }\n",
              "\n",
              "    .dataframe tbody tr th {\n",
              "        vertical-align: top;\n",
              "    }\n",
              "\n",
              "    .dataframe thead th {\n",
              "        text-align: right;\n",
              "    }\n",
              "</style>\n",
              "<table border=\"1\" class=\"dataframe\">\n",
              "  <thead>\n",
              "    <tr style=\"text-align: right;\">\n",
              "      <th></th>\n",
              "      <th>Country_Name</th>\n",
              "      <th>Count</th>\n",
              "    </tr>\n",
              "  </thead>\n",
              "  <tbody>\n",
              "    <tr>\n",
              "      <th>32</th>\n",
              "      <td>Lithuania</td>\n",
              "      <td>35</td>\n",
              "    </tr>\n",
              "    <tr>\n",
              "      <th>33</th>\n",
              "      <td>Brazil</td>\n",
              "      <td>32</td>\n",
              "    </tr>\n",
              "    <tr>\n",
              "      <th>34</th>\n",
              "      <td>Czech Republic</td>\n",
              "      <td>25</td>\n",
              "    </tr>\n",
              "    <tr>\n",
              "      <th>35</th>\n",
              "      <td>Bahrain</td>\n",
              "      <td>17</td>\n",
              "    </tr>\n",
              "    <tr>\n",
              "      <th>36</th>\n",
              "      <td>Saudi Arabia</td>\n",
              "      <td>9</td>\n",
              "    </tr>\n",
              "  </tbody>\n",
              "</table>\n",
              "</div>"
            ],
            "text/plain": [
              "      Country_Name  Count\n",
              "32       Lithuania     35\n",
              "33          Brazil     32\n",
              "34  Czech Republic     25\n",
              "35         Bahrain     17\n",
              "36    Saudi Arabia      9"
            ]
          },
          "metadata": {
            "tags": []
          },
          "execution_count": 19
        }
      ]
    },
    {
      "cell_type": "code",
      "metadata": {
        "colab": {
          "base_uri": "https://localhost:8080/",
          "height": 535
        },
        "id": "K0VThZU_95zw",
        "outputId": "d2ffcd31-d405-41f7-9617-e013e17f0d09"
      },
      "source": [
        "plt.figure(figsize=(13,8))\r\n",
        "plt.title('Top 5 Country based on the Country')\r\n",
        "sns.barplot(x='Country_Name',y='Count',data=country_df[:5])"
      ],
      "execution_count": 20,
      "outputs": [
        {
          "output_type": "execute_result",
          "data": {
            "text/plain": [
              "<matplotlib.axes._subplots.AxesSubplot at 0x7f5aba681400>"
            ]
          },
          "metadata": {
            "tags": []
          },
          "execution_count": 20
        },
        {
          "output_type": "display_data",
          "data": {
            "image/png": "[encoded data removed]",
            "text/plain": [
              "<Figure size 936x576 with 1 Axes>"
            ]
          },
          "metadata": {
            "tags": [],
            "needs_background": "light"
          }
        }
      ]
    },
    {
      "cell_type": "code",
      "metadata": {
        "colab": {
          "base_uri": "https://localhost:8080/",
          "height": 535
        },
        "id": "TPIew4FL958v",
        "outputId": "d8de7d94-3fbc-47d8-87fe-2df10024144f"
      },
      "source": [
        "plt.figure(figsize=(13,8))\r\n",
        "plt.title('Bottum 5 Country based on Country')\r\n",
        "sns.barplot(x='Country_Name',y='Count',data=country_df[-5:])"
      ],
      "execution_count": 21,
      "outputs": [
        {
          "output_type": "execute_result",
          "data": {
            "text/plain": [
              "<matplotlib.axes._subplots.AxesSubplot at 0x7f5aba7cdac8>"
            ]
          },
          "metadata": {
            "tags": []
          },
          "execution_count": 21
        },
        {
          "output_type": "display_data",
          "data": {
            "image/png": "[encoded data removed]",
            "text/plain": [
              "<Figure size 936x576 with 1 Axes>"
            ]
          },
          "metadata": {
            "tags": [],
            "needs_background": "light"
          }
        }
      ]
    },
    {
      "cell_type": "code",
      "metadata": {
        "colab": {
          "base_uri": "https://localhost:8080/",
          "height": 481
        },
        "id": "mAQkVsVIWiAr",
        "outputId": "1cc79b32-326a-4c70-9fc5-265433e1c134"
      },
      "source": [
        "df[df['Country']=='Saudi Arabia']"
      ],
      "execution_count": 22,
      "outputs": [
        {
          "output_type": "execute_result",
          "data": {
            "text/html": [
              "<div>\n",
              "<style scoped>\n",
              "    .dataframe tbody tr th:only-of-type {\n",
              "        vertical-align: middle;\n",
              "    }\n",
              "\n",
              "    .dataframe tbody tr th {\n",
              "        vertical-align: top;\n",
              "    }\n",
              "\n",
              "    .dataframe thead th {\n",
              "        text-align: right;\n",
              "    }\n",
              "</style>\n",
              "<table border=\"1\" class=\"dataframe\">\n",
              "  <thead>\n",
              "    <tr style=\"text-align: right;\">\n",
              "      <th></th>\n",
              "      <th>InvoiceNo</th>\n",
              "      <th>StockCode</th>\n",
              "      <th>Description</th>\n",
              "      <th>Quantity</th>\n",
              "      <th>InvoiceDate</th>\n",
              "      <th>UnitPrice</th>\n",
              "      <th>CustomerID</th>\n",
              "      <th>Country</th>\n",
              "    </tr>\n",
              "  </thead>\n",
              "  <tbody>\n",
              "    <tr>\n",
              "      <th>100810</th>\n",
              "      <td>544838</td>\n",
              "      <td>22915</td>\n",
              "      <td>ASSORTED BOTTLE TOP  MAGNETS</td>\n",
              "      <td>12</td>\n",
              "      <td>2011-02-24 10:34:00</td>\n",
              "      <td>0.42</td>\n",
              "      <td>12565.0</td>\n",
              "      <td>Saudi Arabia</td>\n",
              "    </tr>\n",
              "    <tr>\n",
              "      <th>100811</th>\n",
              "      <td>544838</td>\n",
              "      <td>22363</td>\n",
              "      <td>GLASS JAR MARMALADE</td>\n",
              "      <td>6</td>\n",
              "      <td>2011-02-24 10:34:00</td>\n",
              "      <td>2.95</td>\n",
              "      <td>12565.0</td>\n",
              "      <td>Saudi Arabia</td>\n",
              "    </tr>\n",
              "    <tr>\n",
              "      <th>100812</th>\n",
              "      <td>544838</td>\n",
              "      <td>22362</td>\n",
              "      <td>GLASS JAR PEACOCK BATH SALTS</td>\n",
              "      <td>6</td>\n",
              "      <td>2011-02-24 10:34:00</td>\n",
              "      <td>2.95</td>\n",
              "      <td>12565.0</td>\n",
              "      <td>Saudi Arabia</td>\n",
              "    </tr>\n",
              "    <tr>\n",
              "      <th>100813</th>\n",
              "      <td>544838</td>\n",
              "      <td>22361</td>\n",
              "      <td>GLASS JAR DAISY FRESH COTTON WOOL</td>\n",
              "      <td>6</td>\n",
              "      <td>2011-02-24 10:34:00</td>\n",
              "      <td>2.95</td>\n",
              "      <td>12565.0</td>\n",
              "      <td>Saudi Arabia</td>\n",
              "    </tr>\n",
              "    <tr>\n",
              "      <th>100814</th>\n",
              "      <td>544838</td>\n",
              "      <td>22553</td>\n",
              "      <td>PLASTERS IN TIN SKULLS</td>\n",
              "      <td>12</td>\n",
              "      <td>2011-02-24 10:34:00</td>\n",
              "      <td>1.65</td>\n",
              "      <td>12565.0</td>\n",
              "      <td>Saudi Arabia</td>\n",
              "    </tr>\n",
              "    <tr>\n",
              "      <th>100815</th>\n",
              "      <td>544838</td>\n",
              "      <td>22555</td>\n",
              "      <td>PLASTERS IN TIN STRONGMAN</td>\n",
              "      <td>12</td>\n",
              "      <td>2011-02-24 10:34:00</td>\n",
              "      <td>1.65</td>\n",
              "      <td>12565.0</td>\n",
              "      <td>Saudi Arabia</td>\n",
              "    </tr>\n",
              "    <tr>\n",
              "      <th>100816</th>\n",
              "      <td>544838</td>\n",
              "      <td>22556</td>\n",
              "      <td>PLASTERS IN TIN CIRCUS PARADE</td>\n",
              "      <td>12</td>\n",
              "      <td>2011-02-24 10:34:00</td>\n",
              "      <td>1.65</td>\n",
              "      <td>12565.0</td>\n",
              "      <td>Saudi Arabia</td>\n",
              "    </tr>\n",
              "    <tr>\n",
              "      <th>100817</th>\n",
              "      <td>544838</td>\n",
              "      <td>20781</td>\n",
              "      <td>GOLD EAR MUFF HEADPHONES</td>\n",
              "      <td>2</td>\n",
              "      <td>2011-02-24 10:34:00</td>\n",
              "      <td>5.49</td>\n",
              "      <td>12565.0</td>\n",
              "      <td>Saudi Arabia</td>\n",
              "    </tr>\n",
              "    <tr>\n",
              "      <th>100818</th>\n",
              "      <td>544838</td>\n",
              "      <td>22969</td>\n",
              "      <td>HOMEMADE JAM SCENTED CANDLES</td>\n",
              "      <td>12</td>\n",
              "      <td>2011-02-24 10:34:00</td>\n",
              "      <td>1.45</td>\n",
              "      <td>12565.0</td>\n",
              "      <td>Saudi Arabia</td>\n",
              "    </tr>\n",
              "  </tbody>\n",
              "</table>\n",
              "</div>"
            ],
            "text/plain": [
              "       InvoiceNo StockCode  ... CustomerID       Country\n",
              "100810    544838     22915  ...    12565.0  Saudi Arabia\n",
              "100811    544838     22363  ...    12565.0  Saudi Arabia\n",
              "100812    544838     22362  ...    12565.0  Saudi Arabia\n",
              "100813    544838     22361  ...    12565.0  Saudi Arabia\n",
              "100814    544838     22553  ...    12565.0  Saudi Arabia\n",
              "100815    544838     22555  ...    12565.0  Saudi Arabia\n",
              "100816    544838     22556  ...    12565.0  Saudi Arabia\n",
              "100817    544838     20781  ...    12565.0  Saudi Arabia\n",
              "100818    544838     22969  ...    12565.0  Saudi Arabia\n",
              "\n",
              "[9 rows x 8 columns]"
            ]
          },
          "metadata": {
            "tags": []
          },
          "execution_count": 22
        }
      ]
    },
    {
      "cell_type": "code",
      "metadata": {
        "colab": {
          "base_uri": "https://localhost:8080/",
          "height": 605
        },
        "id": "fDpX06f496Dr",
        "outputId": "a8f68093-66db-4fbf-db3d-468466f5d4f9"
      },
      "source": [
        "\r\n",
        "plt.figure(figsize=(15,10))\r\n",
        "plt.title('distribution of Quantity')\r\n",
        "sns.distplot(df['Quantity'],color=\"B\")"
      ],
      "execution_count": 23,
      "outputs": [
        {
          "output_type": "execute_result",
          "data": {
            "text/plain": [
              "<matplotlib.axes._subplots.AxesSubplot at 0x7f5ab94c0978>"
            ]
          },
          "metadata": {
            "tags": []
          },
          "execution_count": 23
        },
        {
          "output_type": "display_data",
          "data": {
            "image/png": "[encoded data removed]",
            "text/plain": [
              "<Figure size 1080x720 with 1 Axes>"
            ]
          },
          "metadata": {
            "tags": [],
            "needs_background": "light"
          }
        }
      ]
    },
    {
      "cell_type": "code",
      "metadata": {
        "colab": {
          "base_uri": "https://localhost:8080/",
          "height": 619
        },
        "id": "ybFAEMNG96HN",
        "outputId": "6f04e7b0-3b6f-40a9-ec94-51be2c245ca9"
      },
      "source": [
        "\r\n",
        "plt.figure(figsize=(15,10))\r\n",
        "plt.title('log distribution of Quantity')\r\n",
        "sns.distplot(np.log(df['Quantity']),color=\"B\")"
      ],
      "execution_count": 24,
      "outputs": [
        {
          "output_type": "execute_result",
          "data": {
            "text/plain": [
              "<matplotlib.axes._subplots.AxesSubplot at 0x7f5ac1474908>"
            ]
          },
          "metadata": {
            "tags": []
          },
          "execution_count": 24
        },
        {
          "output_type": "display_data",
          "data": {
            "image/png": "[encoded data removed]",
            "text/plain": [
              "<Figure size 1080x720 with 1 Axes>"
            ]
          },
          "metadata": {
            "tags": [],
            "needs_background": "light"
          }
        }
      ]
    },
    {
      "cell_type": "code",
      "metadata": {
        "colab": {
          "base_uri": "https://localhost:8080/"
        },
        "id": "yLdEatE8BPKu",
        "outputId": "eb8e5c4c-201e-442d-fca2-2c6645fbd959"
      },
      "source": [
        "df['Quantity'].unique()"
      ],
      "execution_count": 25,
      "outputs": [
        {
          "output_type": "execute_result",
          "data": {
            "text/plain": [
              "array([    6,     8,     2,    32,     3,     4,    24,    12,    48,\n",
              "          18,    20,    36,    80,    64,    10,   120,    96,    23,\n",
              "           5,     1,    50,    40,   100,   192,   432,   144,   288,\n",
              "          16,     9,   128,    25,    30,    28,     7,    72,   200,\n",
              "         600,   480,    14,    11,    70,   252,    60,   216,   384,\n",
              "          27,   108,    52,    75,   270,    42,   240,    90,   320,\n",
              "          17,  1824,   204,    69,   160,  2880,  1400,    19,    39,\n",
              "          56,    13,  1440,    15,   720,   156,   324,    41,   402,\n",
              "         378,   150,   300,    22,    34,   408,   972,   208,  1008,\n",
              "          26,  1000,  1488,   250,  1394,   400,   110,    37,    78,\n",
              "          21,   272,    84,    47,  1728,    38,    53,    76,   576,\n",
              "          29,  2400,   500,   180,   960,  1296,   147,   168,   256,\n",
              "          54,    31,   860,  1010,  1356,  1284,   186,   114,   360,\n",
              "        1930,  2000,  3114,  1300,   670,   176,   648,    62, 74215,\n",
              "          89,    33,    46,   112,   456,   900,    45,   130,  2592,\n",
              "         420,   800,    35,  1200,   864,   504,  1056,  1500,   280,\n",
              "         407,   141,  3906,  1152,   198,   117,   125,    81,   768,\n",
              "          88,    43,   700,  2160,    55,   342,   304,   640,   220,\n",
              "         350,   312,   392,   330,   151,    44,   462,    66,   492,\n",
              "         273,    65,    85,  1350,   428,   336,   101,   132,   227,\n",
              "        2700,   222,   228,   246,   906,   756,   888,   552,   224,\n",
              "         738,   608,  4300,   276,    58,    98,    51,    74,  1600,\n",
              "         323,  1515,   660,   104,   264,   188,   588,   612,   152,\n",
              "          49,   430,   701,   828,   540,   696,   560,   121,   512,\n",
              "         291,  3186,    83,    87,    79,   109,   129,   261,   352,\n",
              "         102,   348,  1900,   157,   116,   968,   684,   824,   196,\n",
              "         124,   248,   410,   236,   230,   210,   448,   140,    86,\n",
              "         840,   450,    93,   494,    92,  1788,   624,   744,   416,\n",
              "         496,   396,   306,  1878,  1944,   666,   708,  1428,   852,\n",
              "        1412,   528,   183,  1540,   672,    67,    63,    94,   255,\n",
              "          57,   126,   468,  4800,   912,  1992,   136,  3000,   232,\n",
              "         832,   992,   630,  1020,  2100,   162,   234,   244, 12540,\n",
              "          95,   760,   139,   115,   774,  2040,  1120,    59,   490,\n",
              "         388,   620,  1404,   698, 80995])"
            ]
          },
          "metadata": {
            "tags": []
          },
          "execution_count": 25
        }
      ]
    },
    {
      "cell_type": "code",
      "metadata": {
        "id": "x7GfgQ7zBSrm"
      },
      "source": [
        "df=df[df['Quantity']>=1]"
      ],
      "execution_count": 26,
      "outputs": []
    },
    {
      "cell_type": "code",
      "metadata": {
        "colab": {
          "base_uri": "https://localhost:8080/"
        },
        "id": "iUMW5-jiBY4Y",
        "outputId": "bc2c98c2-be7f-4dc2-847c-dec90a35b852"
      },
      "source": [
        "df.info()"
      ],
      "execution_count": 27,
      "outputs": [
        {
          "output_type": "stream",
          "text": [
            "<class 'pandas.core.frame.DataFrame'>\n",
            "Int64Index: 397924 entries, 0 to 541908\n",
            "Data columns (total 8 columns):\n",
            " #   Column       Non-Null Count   Dtype         \n",
            "---  ------       --------------   -----         \n",
            " 0   InvoiceNo    397924 non-null  object        \n",
            " 1   StockCode    397924 non-null  object        \n",
            " 2   Description  397924 non-null  object        \n",
            " 3   Quantity     397924 non-null  int64         \n",
            " 4   InvoiceDate  397924 non-null  datetime64[ns]\n",
            " 5   UnitPrice    397924 non-null  float64       \n",
            " 6   CustomerID   397924 non-null  float64       \n",
            " 7   Country      397924 non-null  object        \n",
            "dtypes: datetime64[ns](1), float64(2), int64(1), object(4)\n",
            "memory usage: 27.3+ MB\n"
          ],
          "name": "stdout"
        }
      ]
    },
    {
      "cell_type": "code",
      "metadata": {
        "colab": {
          "base_uri": "https://localhost:8080/",
          "height": 619
        },
        "id": "DYYfUNI_CKm-",
        "outputId": "b43f2536-f7fb-45c3-dfb2-9e0feab26432"
      },
      "source": [
        "\r\n",
        "plt.figure(figsize=(15,10))\r\n",
        "plt.title('distribution of Quantity')\r\n",
        "sns.distplot(np.log(df['Quantity']),color=\"B\")"
      ],
      "execution_count": 28,
      "outputs": [
        {
          "output_type": "execute_result",
          "data": {
            "text/plain": [
              "<matplotlib.axes._subplots.AxesSubplot at 0x7f5ac5419b70>"
            ]
          },
          "metadata": {
            "tags": []
          },
          "execution_count": 28
        },
        {
          "output_type": "display_data",
          "data": {
            "image/png": "[encoded data removed]",
            "text/plain": [
              "<Figure size 1080x720 with 1 Axes>"
            ]
          },
          "metadata": {
            "tags": [],
            "needs_background": "light"
          }
        }
      ]
    },
    {
      "cell_type": "code",
      "metadata": {
        "colab": {
          "base_uri": "https://localhost:8080/",
          "height": 609
        },
        "id": "_xXvo059rKF5",
        "outputId": "5df77904-6264-4e2a-8714-e198c44a61a9"
      },
      "source": [
        "\r\n",
        "plt.figure(figsize=(15,10))\r\n",
        "plt.title('distribution of UnitPrice')\r\n",
        "sns.distplot(df['UnitPrice'],color=\"B\")"
      ],
      "execution_count": 29,
      "outputs": [
        {
          "output_type": "execute_result",
          "data": {
            "text/plain": [
              "<matplotlib.axes._subplots.AxesSubplot at 0x7f5ac46fd748>"
            ]
          },
          "metadata": {
            "tags": []
          },
          "execution_count": 29
        },
        {
          "output_type": "display_data",
          "data": {
            "image/png": "[encoded data removed]",
            "text/plain": [
              "<Figure size 1080x720 with 1 Axes>"
            ]
          },
          "metadata": {
            "tags": [],
            "needs_background": "light"
          }
        }
      ]
    },
    {
      "cell_type": "code",
      "metadata": {
        "colab": {
          "base_uri": "https://localhost:8080/",
          "height": 49
        },
        "id": "w4KDQWNfrQtg",
        "outputId": "4382ab80-4843-4269-8eb8-0c8e5584c5ec"
      },
      "source": [
        "df[df['UnitPrice']<0]"
      ],
      "execution_count": 30,
      "outputs": [
        {
          "output_type": "execute_result",
          "data": {
            "text/html": [
              "<div>\n",
              "<style scoped>\n",
              "    .dataframe tbody tr th:only-of-type {\n",
              "        vertical-align: middle;\n",
              "    }\n",
              "\n",
              "    .dataframe tbody tr th {\n",
              "        vertical-align: top;\n",
              "    }\n",
              "\n",
              "    .dataframe thead th {\n",
              "        text-align: right;\n",
              "    }\n",
              "</style>\n",
              "<table border=\"1\" class=\"dataframe\">\n",
              "  <thead>\n",
              "    <tr style=\"text-align: right;\">\n",
              "      <th></th>\n",
              "      <th>InvoiceNo</th>\n",
              "      <th>StockCode</th>\n",
              "      <th>Description</th>\n",
              "      <th>Quantity</th>\n",
              "      <th>InvoiceDate</th>\n",
              "      <th>UnitPrice</th>\n",
              "      <th>CustomerID</th>\n",
              "      <th>Country</th>\n",
              "    </tr>\n",
              "  </thead>\n",
              "  <tbody>\n",
              "  </tbody>\n",
              "</table>\n",
              "</div>"
            ],
            "text/plain": [
              "Empty DataFrame\n",
              "Columns: [InvoiceNo, StockCode, Description, Quantity, InvoiceDate, UnitPrice, CustomerID, Country]\n",
              "Index: []"
            ]
          },
          "metadata": {
            "tags": []
          },
          "execution_count": 30
        }
      ]
    },
    {
      "cell_type": "code",
      "metadata": {
        "id": "8g_SUDVFrlQ0"
      },
      "source": [
        "df=df[df['UnitPrice']>0]"
      ],
      "execution_count": 31,
      "outputs": []
    },
    {
      "cell_type": "code",
      "metadata": {
        "colab": {
          "base_uri": "https://localhost:8080/",
          "height": 145
        },
        "id": "pGtV_h_2EeJX",
        "outputId": "fa610e83-9325-49bf-f485-c881b716dbf8"
      },
      "source": [
        "df.head(2)"
      ],
      "execution_count": 32,
      "outputs": [
        {
          "output_type": "execute_result",
          "data": {
            "text/html": [
              "<div>\n",
              "<style scoped>\n",
              "    .dataframe tbody tr th:only-of-type {\n",
              "        vertical-align: middle;\n",
              "    }\n",
              "\n",
              "    .dataframe tbody tr th {\n",
              "        vertical-align: top;\n",
              "    }\n",
              "\n",
              "    .dataframe thead th {\n",
              "        text-align: right;\n",
              "    }\n",
              "</style>\n",
              "<table border=\"1\" class=\"dataframe\">\n",
              "  <thead>\n",
              "    <tr style=\"text-align: right;\">\n",
              "      <th></th>\n",
              "      <th>InvoiceNo</th>\n",
              "      <th>StockCode</th>\n",
              "      <th>Description</th>\n",
              "      <th>Quantity</th>\n",
              "      <th>InvoiceDate</th>\n",
              "      <th>UnitPrice</th>\n",
              "      <th>CustomerID</th>\n",
              "      <th>Country</th>\n",
              "    </tr>\n",
              "  </thead>\n",
              "  <tbody>\n",
              "    <tr>\n",
              "      <th>0</th>\n",
              "      <td>536365</td>\n",
              "      <td>85123A</td>\n",
              "      <td>WHITE HANGING HEART T-LIGHT HOLDER</td>\n",
              "      <td>6</td>\n",
              "      <td>2010-12-01 08:26:00</td>\n",
              "      <td>2.55</td>\n",
              "      <td>17850.0</td>\n",
              "      <td>United Kingdom</td>\n",
              "    </tr>\n",
              "    <tr>\n",
              "      <th>1</th>\n",
              "      <td>536365</td>\n",
              "      <td>71053</td>\n",
              "      <td>WHITE METAL LANTERN</td>\n",
              "      <td>6</td>\n",
              "      <td>2010-12-01 08:26:00</td>\n",
              "      <td>3.39</td>\n",
              "      <td>17850.0</td>\n",
              "      <td>United Kingdom</td>\n",
              "    </tr>\n",
              "  </tbody>\n",
              "</table>\n",
              "</div>"
            ],
            "text/plain": [
              "  InvoiceNo StockCode  ... CustomerID         Country\n",
              "0    536365    85123A  ...    17850.0  United Kingdom\n",
              "1    536365     71053  ...    17850.0  United Kingdom\n",
              "\n",
              "[2 rows x 8 columns]"
            ]
          },
          "metadata": {
            "tags": []
          },
          "execution_count": 32
        }
      ]
    },
    {
      "cell_type": "markdown",
      "metadata": {
        "id": "2CRWPjL80tWy"
      },
      "source": [
        "#**Feature engineering**"
      ]
    },
    {
      "cell_type": "code",
      "metadata": {
        "id": "zLAtZQOBEJ_N"
      },
      "source": [
        "df[\"InvoiceDate\"] = pd.to_datetime(df[\"InvoiceDate\"], format=\"%Y-%m-%d %H:%M:%S\")"
      ],
      "execution_count": 33,
      "outputs": []
    },
    {
      "cell_type": "code",
      "metadata": {
        "id": "yjnGQ4CTEKCg"
      },
      "source": [
        "df['Day']=df['InvoiceDate'].dt.day_name()"
      ],
      "execution_count": 34,
      "outputs": []
    },
    {
      "cell_type": "code",
      "metadata": {
        "id": "XjBnBbzgEKGC"
      },
      "source": [
        "df[\"year\"] = df[\"InvoiceDate\"].apply(lambda x: x.year)\r\n",
        "df[\"month_num\"] = df[\"InvoiceDate\"].apply(lambda x: x.month)\r\n",
        "df[\"day_num\"] = df[\"InvoiceDate\"].apply(lambda x: x.day)\r\n",
        "df[\"hour\"] = df[\"InvoiceDate\"].apply(lambda x: x.hour)\r\n",
        "df[\"minute\"] = df[\"InvoiceDate\"].apply(lambda x: x.minute)"
      ],
      "execution_count": 35,
      "outputs": []
    },
    {
      "cell_type": "code",
      "metadata": {
        "id": "0B1ciH5jr_Dd"
      },
      "source": [
        "df['Amount']=df['Quantity']*df['UnitPrice']"
      ],
      "execution_count": 36,
      "outputs": []
    },
    {
      "cell_type": "code",
      "metadata": {
        "id": "_of8gdIMGjf0"
      },
      "source": [
        "df['Month']=df['InvoiceDate'].dt.month_name()"
      ],
      "execution_count": 37,
      "outputs": []
    },
    {
      "cell_type": "code",
      "metadata": {
        "colab": {
          "base_uri": "https://localhost:8080/",
          "height": 534
        },
        "id": "NebIv9kjEKJv",
        "outputId": "86889ec9-16e0-47e1-a7fc-9121761c05e6"
      },
      "source": [
        "df.head()"
      ],
      "execution_count": 38,
      "outputs": [
        {
          "output_type": "execute_result",
          "data": {
            "text/html": [
              "<div>\n",
              "<style scoped>\n",
              "    .dataframe tbody tr th:only-of-type {\n",
              "        vertical-align: middle;\n",
              "    }\n",
              "\n",
              "    .dataframe tbody tr th {\n",
              "        vertical-align: top;\n",
              "    }\n",
              "\n",
              "    .dataframe thead th {\n",
              "        text-align: right;\n",
              "    }\n",
              "</style>\n",
              "<table border=\"1\" class=\"dataframe\">\n",
              "  <thead>\n",
              "    <tr style=\"text-align: right;\">\n",
              "      <th></th>\n",
              "      <th>InvoiceNo</th>\n",
              "      <th>StockCode</th>\n",
              "      <th>Description</th>\n",
              "      <th>Quantity</th>\n",
              "      <th>InvoiceDate</th>\n",
              "      <th>UnitPrice</th>\n",
              "      <th>CustomerID</th>\n",
              "      <th>Country</th>\n",
              "      <th>Day</th>\n",
              "      <th>year</th>\n",
              "      <th>month_num</th>\n",
              "      <th>day_num</th>\n",
              "      <th>hour</th>\n",
              "      <th>minute</th>\n",
              "      <th>Amount</th>\n",
              "      <th>Month</th>\n",
              "    </tr>\n",
              "  </thead>\n",
              "  <tbody>\n",
              "    <tr>\n",
              "      <th>0</th>\n",
              "      <td>536365</td>\n",
              "      <td>85123A</td>\n",
              "      <td>WHITE HANGING HEART T-LIGHT HOLDER</td>\n",
              "      <td>6</td>\n",
              "      <td>2010-12-01 08:26:00</td>\n",
              "      <td>2.55</td>\n",
              "      <td>17850.0</td>\n",
              "      <td>United Kingdom</td>\n",
              "      <td>Wednesday</td>\n",
              "      <td>2010</td>\n",
              "      <td>12</td>\n",
              "      <td>1</td>\n",
              "      <td>8</td>\n",
              "      <td>26</td>\n",
              "      <td>15.30</td>\n",
              "      <td>December</td>\n",
              "    </tr>\n",
              "    <tr>\n",
              "      <th>1</th>\n",
              "      <td>536365</td>\n",
              "      <td>71053</td>\n",
              "      <td>WHITE METAL LANTERN</td>\n",
              "      <td>6</td>\n",
              "      <td>2010-12-01 08:26:00</td>\n",
              "      <td>3.39</td>\n",
              "      <td>17850.0</td>\n",
              "      <td>United Kingdom</td>\n",
              "      <td>Wednesday</td>\n",
              "      <td>2010</td>\n",
              "      <td>12</td>\n",
              "      <td>1</td>\n",
              "      <td>8</td>\n",
              "      <td>26</td>\n",
              "      <td>20.34</td>\n",
              "      <td>December</td>\n",
              "    </tr>\n",
              "    <tr>\n",
              "      <th>2</th>\n",
              "      <td>536365</td>\n",
              "      <td>84406B</td>\n",
              "      <td>CREAM CUPID HEARTS COAT HANGER</td>\n",
              "      <td>8</td>\n",
              "      <td>2010-12-01 08:26:00</td>\n",
              "      <td>2.75</td>\n",
              "      <td>17850.0</td>\n",
              "      <td>United Kingdom</td>\n",
              "      <td>Wednesday</td>\n",
              "      <td>2010</td>\n",
              "      <td>12</td>\n",
              "      <td>1</td>\n",
              "      <td>8</td>\n",
              "      <td>26</td>\n",
              "      <td>22.00</td>\n",
              "      <td>December</td>\n",
              "    </tr>\n",
              "    <tr>\n",
              "      <th>3</th>\n",
              "      <td>536365</td>\n",
              "      <td>84029G</td>\n",
              "      <td>KNITTED UNION FLAG HOT WATER BOTTLE</td>\n",
              "      <td>6</td>\n",
              "      <td>2010-12-01 08:26:00</td>\n",
              "      <td>3.39</td>\n",
              "      <td>17850.0</td>\n",
              "      <td>United Kingdom</td>\n",
              "      <td>Wednesday</td>\n",
              "      <td>2010</td>\n",
              "      <td>12</td>\n",
              "      <td>1</td>\n",
              "      <td>8</td>\n",
              "      <td>26</td>\n",
              "      <td>20.34</td>\n",
              "      <td>December</td>\n",
              "    </tr>\n",
              "    <tr>\n",
              "      <th>4</th>\n",
              "      <td>536365</td>\n",
              "      <td>84029E</td>\n",
              "      <td>RED WOOLLY HOTTIE WHITE HEART.</td>\n",
              "      <td>6</td>\n",
              "      <td>2010-12-01 08:26:00</td>\n",
              "      <td>3.39</td>\n",
              "      <td>17850.0</td>\n",
              "      <td>United Kingdom</td>\n",
              "      <td>Wednesday</td>\n",
              "      <td>2010</td>\n",
              "      <td>12</td>\n",
              "      <td>1</td>\n",
              "      <td>8</td>\n",
              "      <td>26</td>\n",
              "      <td>20.34</td>\n",
              "      <td>December</td>\n",
              "    </tr>\n",
              "  </tbody>\n",
              "</table>\n",
              "</div>"
            ],
            "text/plain": [
              "  InvoiceNo StockCode  ... Amount     Month\n",
              "0    536365    85123A  ...  15.30  December\n",
              "1    536365     71053  ...  20.34  December\n",
              "2    536365    84406B  ...  22.00  December\n",
              "3    536365    84029G  ...  20.34  December\n",
              "4    536365    84029E  ...  20.34  December\n",
              "\n",
              "[5 rows x 16 columns]"
            ]
          },
          "metadata": {
            "tags": []
          },
          "execution_count": 38
        }
      ]
    },
    {
      "cell_type": "code",
      "metadata": {
        "colab": {
          "base_uri": "https://localhost:8080/",
          "height": 593
        },
        "id": "QG3em3w8sL17",
        "outputId": "7dcc724a-95bc-4870-9210-021659a0536e"
      },
      "source": [
        "\r\n",
        "plt.figure(figsize=(15,10))\r\n",
        "plt.title('distribution of Amount')\r\n",
        "sns.distplot(df['Amount'],color=\"B\")"
      ],
      "execution_count": 39,
      "outputs": [
        {
          "output_type": "execute_result",
          "data": {
            "text/plain": [
              "<matplotlib.axes._subplots.AxesSubplot at 0x7f5ab69b6898>"
            ]
          },
          "metadata": {
            "tags": []
          },
          "execution_count": 39
        },
        {
          "output_type": "display_data",
          "data": {
            "image/png": "[encoded data removed]",
            "text/plain": [
              "<Figure size 1080x720 with 1 Axes>"
            ]
          },
          "metadata": {
            "tags": [],
            "needs_background": "light"
          }
        }
      ]
    },
    {
      "cell_type": "code",
      "metadata": {
        "colab": {
          "base_uri": "https://localhost:8080/"
        },
        "id": "yju9--0isw0Q",
        "outputId": "5c0bfc1a-78b7-490e-8c79-53dda451dfe6"
      },
      "source": [
        "df['Amount'].describe()"
      ],
      "execution_count": 40,
      "outputs": [
        {
          "output_type": "execute_result",
          "data": {
            "text/plain": [
              "count    397884.000000\n",
              "mean         22.397000\n",
              "std         309.071041\n",
              "min           0.001000\n",
              "25%           4.680000\n",
              "50%          11.800000\n",
              "75%          19.800000\n",
              "max      168469.600000\n",
              "Name: Amount, dtype: float64"
            ]
          },
          "metadata": {
            "tags": []
          },
          "execution_count": 40
        }
      ]
    },
    {
      "cell_type": "code",
      "metadata": {
        "colab": {
          "base_uri": "https://localhost:8080/",
          "height": 503
        },
        "id": "qorpNnDesd_I",
        "outputId": "39610626-511a-4157-89f8-73a8db4981dd"
      },
      "source": [
        "plt.figure(figsize=(13,8))\r\n",
        "df['Amount'].describe().plot()"
      ],
      "execution_count": 41,
      "outputs": [
        {
          "output_type": "execute_result",
          "data": {
            "text/plain": [
              "<matplotlib.axes._subplots.AxesSubplot at 0x7f5ab5100c88>"
            ]
          },
          "metadata": {
            "tags": []
          },
          "execution_count": 41
        },
        {
          "output_type": "display_data",
          "data": {
            "image/png": "[encoded data removed]",
            "text/plain": [
              "<Figure size 936x576 with 1 Axes>"
            ]
          },
          "metadata": {
            "tags": [],
            "needs_background": "light"
          }
        }
      ]
    },
    {
      "cell_type": "code",
      "metadata": {
        "colab": {
          "base_uri": "https://localhost:8080/",
          "height": 233
        },
        "id": "jO3cZ1rvEKNk",
        "outputId": "b34811d7-3f73-4131-86c4-5fcf2bc3443b"
      },
      "source": [
        "day_df=df['Day'].value_counts().reset_index()\r\n",
        "day_df.rename(columns={'index': 'Day_Name'}, inplace=True)\r\n",
        "day_df.rename(columns={'Day': 'Count'}, inplace=True)\r\n",
        "day_df"
      ],
      "execution_count": 42,
      "outputs": [
        {
          "output_type": "execute_result",
          "data": {
            "text/html": [
              "<div>\n",
              "<style scoped>\n",
              "    .dataframe tbody tr th:only-of-type {\n",
              "        vertical-align: middle;\n",
              "    }\n",
              "\n",
              "    .dataframe tbody tr th {\n",
              "        vertical-align: top;\n",
              "    }\n",
              "\n",
              "    .dataframe thead th {\n",
              "        text-align: right;\n",
              "    }\n",
              "</style>\n",
              "<table border=\"1\" class=\"dataframe\">\n",
              "  <thead>\n",
              "    <tr style=\"text-align: right;\">\n",
              "      <th></th>\n",
              "      <th>Day_Name</th>\n",
              "      <th>Count</th>\n",
              "    </tr>\n",
              "  </thead>\n",
              "  <tbody>\n",
              "    <tr>\n",
              "      <th>0</th>\n",
              "      <td>Thursday</td>\n",
              "      <td>80035</td>\n",
              "    </tr>\n",
              "    <tr>\n",
              "      <th>1</th>\n",
              "      <td>Wednesday</td>\n",
              "      <td>68885</td>\n",
              "    </tr>\n",
              "    <tr>\n",
              "      <th>2</th>\n",
              "      <td>Tuesday</td>\n",
              "      <td>66473</td>\n",
              "    </tr>\n",
              "    <tr>\n",
              "      <th>3</th>\n",
              "      <td>Monday</td>\n",
              "      <td>64893</td>\n",
              "    </tr>\n",
              "    <tr>\n",
              "      <th>4</th>\n",
              "      <td>Sunday</td>\n",
              "      <td>62773</td>\n",
              "    </tr>\n",
              "    <tr>\n",
              "      <th>5</th>\n",
              "      <td>Friday</td>\n",
              "      <td>54825</td>\n",
              "    </tr>\n",
              "  </tbody>\n",
              "</table>\n",
              "</div>"
            ],
            "text/plain": [
              "    Day_Name  Count\n",
              "0   Thursday  80035\n",
              "1  Wednesday  68885\n",
              "2    Tuesday  66473\n",
              "3     Monday  64893\n",
              "4     Sunday  62773\n",
              "5     Friday  54825"
            ]
          },
          "metadata": {
            "tags": []
          },
          "execution_count": 42
        }
      ]
    },
    {
      "cell_type": "code",
      "metadata": {
        "colab": {
          "base_uri": "https://localhost:8080/",
          "height": 535
        },
        "id": "aAs9jQm_EKRD",
        "outputId": "7cb65f22-91ff-4b7f-eb3b-1aa9b51579fd"
      },
      "source": [
        "plt.figure(figsize=(13,8))\r\n",
        "plt.title('Day')\r\n",
        "sns.barplot(x='Day_Name',y='Count',data=day_df)"
      ],
      "execution_count": 43,
      "outputs": [
        {
          "output_type": "execute_result",
          "data": {
            "text/plain": [
              "<matplotlib.axes._subplots.AxesSubplot at 0x7f5ab5a079b0>"
            ]
          },
          "metadata": {
            "tags": []
          },
          "execution_count": 43
        },
        {
          "output_type": "display_data",
          "data": {
            "image/png": "[encoded data removed]",
            "text/plain": [
              "<Figure size 936x576 with 1 Axes>"
            ]
          },
          "metadata": {
            "tags": [],
            "needs_background": "light"
          }
        }
      ]
    },
    {
      "cell_type": "code",
      "metadata": {
        "colab": {
          "base_uri": "https://localhost:8080/",
          "height": 417
        },
        "id": "Iidnm9GlGMeo",
        "outputId": "5bbf2337-50d9-4717-99f4-7045b8c699e4"
      },
      "source": [
        "month_df=df['Month'].value_counts().reset_index()\r\n",
        "month_df.rename(columns={'index': 'Month_Name'}, inplace=True)\r\n",
        "month_df.rename(columns={'Month': 'Count'}, inplace=True)\r\n",
        "month_df"
      ],
      "execution_count": 44,
      "outputs": [
        {
          "output_type": "execute_result",
          "data": {
            "text/html": [
              "<div>\n",
              "<style scoped>\n",
              "    .dataframe tbody tr th:only-of-type {\n",
              "        vertical-align: middle;\n",
              "    }\n",
              "\n",
              "    .dataframe tbody tr th {\n",
              "        vertical-align: top;\n",
              "    }\n",
              "\n",
              "    .dataframe thead th {\n",
              "        text-align: right;\n",
              "    }\n",
              "</style>\n",
              "<table border=\"1\" class=\"dataframe\">\n",
              "  <thead>\n",
              "    <tr style=\"text-align: right;\">\n",
              "      <th></th>\n",
              "      <th>Month_Name</th>\n",
              "      <th>Count</th>\n",
              "    </tr>\n",
              "  </thead>\n",
              "  <tbody>\n",
              "    <tr>\n",
              "      <th>0</th>\n",
              "      <td>November</td>\n",
              "      <td>64531</td>\n",
              "    </tr>\n",
              "    <tr>\n",
              "      <th>1</th>\n",
              "      <td>October</td>\n",
              "      <td>49554</td>\n",
              "    </tr>\n",
              "    <tr>\n",
              "      <th>2</th>\n",
              "      <td>December</td>\n",
              "      <td>43461</td>\n",
              "    </tr>\n",
              "    <tr>\n",
              "      <th>3</th>\n",
              "      <td>September</td>\n",
              "      <td>40028</td>\n",
              "    </tr>\n",
              "    <tr>\n",
              "      <th>4</th>\n",
              "      <td>May</td>\n",
              "      <td>28320</td>\n",
              "    </tr>\n",
              "    <tr>\n",
              "      <th>5</th>\n",
              "      <td>June</td>\n",
              "      <td>27185</td>\n",
              "    </tr>\n",
              "    <tr>\n",
              "      <th>6</th>\n",
              "      <td>March</td>\n",
              "      <td>27175</td>\n",
              "    </tr>\n",
              "    <tr>\n",
              "      <th>7</th>\n",
              "      <td>August</td>\n",
              "      <td>27007</td>\n",
              "    </tr>\n",
              "    <tr>\n",
              "      <th>8</th>\n",
              "      <td>July</td>\n",
              "      <td>26825</td>\n",
              "    </tr>\n",
              "    <tr>\n",
              "      <th>9</th>\n",
              "      <td>April</td>\n",
              "      <td>22642</td>\n",
              "    </tr>\n",
              "    <tr>\n",
              "      <th>10</th>\n",
              "      <td>January</td>\n",
              "      <td>21229</td>\n",
              "    </tr>\n",
              "    <tr>\n",
              "      <th>11</th>\n",
              "      <td>February</td>\n",
              "      <td>19927</td>\n",
              "    </tr>\n",
              "  </tbody>\n",
              "</table>\n",
              "</div>"
            ],
            "text/plain": [
              "   Month_Name  Count\n",
              "0    November  64531\n",
              "1     October  49554\n",
              "2    December  43461\n",
              "3   September  40028\n",
              "4         May  28320\n",
              "5        June  27185\n",
              "6       March  27175\n",
              "7      August  27007\n",
              "8        July  26825\n",
              "9       April  22642\n",
              "10    January  21229\n",
              "11   February  19927"
            ]
          },
          "metadata": {
            "tags": []
          },
          "execution_count": 44
        }
      ]
    },
    {
      "cell_type": "code",
      "metadata": {
        "colab": {
          "base_uri": "https://localhost:8080/",
          "height": 535
        },
        "id": "dsJmBxmuGMiO",
        "outputId": "bf5d4337-d9de-4f33-bdd5-d628a80b58ad"
      },
      "source": [
        "plt.figure(figsize=(13,8))\r\n",
        "plt.title('Month')\r\n",
        "sns.barplot(x='Month_Name',y='Count',data=month_df)"
      ],
      "execution_count": 45,
      "outputs": [
        {
          "output_type": "execute_result",
          "data": {
            "text/plain": [
              "<matplotlib.axes._subplots.AxesSubplot at 0x7f5ab5b94a20>"
            ]
          },
          "metadata": {
            "tags": []
          },
          "execution_count": 45
        },
        {
          "output_type": "display_data",
          "data": {
            "image/png": "[encoded data removed]",
            "text/plain": [
              "<Figure size 936x576 with 1 Axes>"
            ]
          },
          "metadata": {
            "tags": [],
            "needs_background": "light"
          }
        }
      ]
    },
    {
      "cell_type": "code",
      "metadata": {
        "colab": {
          "base_uri": "https://localhost:8080/",
          "height": 509
        },
        "id": "EUfwc_Z6GMlw",
        "outputId": "01e58ae1-5fe2-4e05-dd97-452b2ec76798"
      },
      "source": [
        "hour_df=df['hour'].value_counts().reset_index()\r\n",
        "hour_df.rename(columns={'index': 'Hour_Name'}, inplace=True)\r\n",
        "hour_df.rename(columns={'hour': 'Count'}, inplace=True)\r\n",
        "hour_df"
      ],
      "execution_count": 46,
      "outputs": [
        {
          "output_type": "execute_result",
          "data": {
            "text/html": [
              "<div>\n",
              "<style scoped>\n",
              "    .dataframe tbody tr th:only-of-type {\n",
              "        vertical-align: middle;\n",
              "    }\n",
              "\n",
              "    .dataframe tbody tr th {\n",
              "        vertical-align: top;\n",
              "    }\n",
              "\n",
              "    .dataframe thead th {\n",
              "        text-align: right;\n",
              "    }\n",
              "</style>\n",
              "<table border=\"1\" class=\"dataframe\">\n",
              "  <thead>\n",
              "    <tr style=\"text-align: right;\">\n",
              "      <th></th>\n",
              "      <th>Hour_Name</th>\n",
              "      <th>Count</th>\n",
              "    </tr>\n",
              "  </thead>\n",
              "  <tbody>\n",
              "    <tr>\n",
              "      <th>0</th>\n",
              "      <td>12</td>\n",
              "      <td>72065</td>\n",
              "    </tr>\n",
              "    <tr>\n",
              "      <th>1</th>\n",
              "      <td>13</td>\n",
              "      <td>64026</td>\n",
              "    </tr>\n",
              "    <tr>\n",
              "      <th>2</th>\n",
              "      <td>14</td>\n",
              "      <td>54118</td>\n",
              "    </tr>\n",
              "    <tr>\n",
              "      <th>3</th>\n",
              "      <td>11</td>\n",
              "      <td>49084</td>\n",
              "    </tr>\n",
              "    <tr>\n",
              "      <th>4</th>\n",
              "      <td>15</td>\n",
              "      <td>45369</td>\n",
              "    </tr>\n",
              "    <tr>\n",
              "      <th>5</th>\n",
              "      <td>10</td>\n",
              "      <td>37997</td>\n",
              "    </tr>\n",
              "    <tr>\n",
              "      <th>6</th>\n",
              "      <td>16</td>\n",
              "      <td>24089</td>\n",
              "    </tr>\n",
              "    <tr>\n",
              "      <th>7</th>\n",
              "      <td>9</td>\n",
              "      <td>21944</td>\n",
              "    </tr>\n",
              "    <tr>\n",
              "      <th>8</th>\n",
              "      <td>17</td>\n",
              "      <td>13071</td>\n",
              "    </tr>\n",
              "    <tr>\n",
              "      <th>9</th>\n",
              "      <td>8</td>\n",
              "      <td>8690</td>\n",
              "    </tr>\n",
              "    <tr>\n",
              "      <th>10</th>\n",
              "      <td>19</td>\n",
              "      <td>3321</td>\n",
              "    </tr>\n",
              "    <tr>\n",
              "      <th>11</th>\n",
              "      <td>18</td>\n",
              "      <td>2928</td>\n",
              "    </tr>\n",
              "    <tr>\n",
              "      <th>12</th>\n",
              "      <td>20</td>\n",
              "      <td>802</td>\n",
              "    </tr>\n",
              "    <tr>\n",
              "      <th>13</th>\n",
              "      <td>7</td>\n",
              "      <td>379</td>\n",
              "    </tr>\n",
              "    <tr>\n",
              "      <th>14</th>\n",
              "      <td>6</td>\n",
              "      <td>1</td>\n",
              "    </tr>\n",
              "  </tbody>\n",
              "</table>\n",
              "</div>"
            ],
            "text/plain": [
              "    Hour_Name  Count\n",
              "0          12  72065\n",
              "1          13  64026\n",
              "2          14  54118\n",
              "3          11  49084\n",
              "4          15  45369\n",
              "5          10  37997\n",
              "6          16  24089\n",
              "7           9  21944\n",
              "8          17  13071\n",
              "9           8   8690\n",
              "10         19   3321\n",
              "11         18   2928\n",
              "12         20    802\n",
              "13          7    379\n",
              "14          6      1"
            ]
          },
          "metadata": {
            "tags": []
          },
          "execution_count": 46
        }
      ]
    },
    {
      "cell_type": "code",
      "metadata": {
        "colab": {
          "base_uri": "https://localhost:8080/",
          "height": 535
        },
        "id": "F6TGyq1TImRO",
        "outputId": "565c1d64-a929-464e-8159-2d8850151245"
      },
      "source": [
        "plt.figure(figsize=(13,8))\r\n",
        "plt.title('Hour')\r\n",
        "sns.barplot(x='Hour_Name',y='Count',data=hour_df)"
      ],
      "execution_count": 47,
      "outputs": [
        {
          "output_type": "execute_result",
          "data": {
            "text/plain": [
              "<matplotlib.axes._subplots.AxesSubplot at 0x7f5ab60e42e8>"
            ]
          },
          "metadata": {
            "tags": []
          },
          "execution_count": 47
        },
        {
          "output_type": "display_data",
          "data": {
            "image/png": "[encoded data removed]",
            "text/plain": [
              "<Figure size 936x576 with 1 Axes>"
            ]
          },
          "metadata": {
            "tags": [],
            "needs_background": "light"
          }
        }
      ]
    },
    {
      "cell_type": "code",
      "metadata": {
        "id": "nqPO-dgGi5WT"
      },
      "source": [
        "def time_type(time):\r\n",
        "  if(time==6 or time==7 or time==8 or time==9 or time==10 or time==11):\r\n",
        "    return 'Morning'\r\n",
        "  elif(time==12 or time==13 or time==14 or time==15 or time==16 or time==17):\r\n",
        "    return 'Afternoon'\r\n",
        "  else:\r\n",
        "    return 'Evening'"
      ],
      "execution_count": 48,
      "outputs": []
    },
    {
      "cell_type": "code",
      "metadata": {
        "id": "j_ISTDtd6xdv"
      },
      "source": [
        "df['Time_type']=df['hour'].apply(time_type)"
      ],
      "execution_count": 49,
      "outputs": []
    },
    {
      "cell_type": "code",
      "metadata": {
        "colab": {
          "base_uri": "https://localhost:8080/",
          "height": 535
        },
        "id": "-s4sv0O26y-h",
        "outputId": "860c168d-9147-4fbf-ac70-e3550dbeeb45"
      },
      "source": [
        "plt.figure(figsize=(13,8))\r\n",
        "plt.title('Time_type')\r\n",
        "sns.countplot(x='Time_type',data=df)"
      ],
      "execution_count": 50,
      "outputs": [
        {
          "output_type": "execute_result",
          "data": {
            "text/plain": [
              "<matplotlib.axes._subplots.AxesSubplot at 0x7f5ab6704eb8>"
            ]
          },
          "metadata": {
            "tags": []
          },
          "execution_count": 50
        },
        {
          "output_type": "display_data",
          "data": {
            "image/png": "[encoded data removed]",
            "text/plain": [
              "<Figure size 936x576 with 1 Axes>"
            ]
          },
          "metadata": {
            "tags": [],
            "needs_background": "light"
          }
        }
      ]
    },
    {
      "cell_type": "code",
      "metadata": {
        "colab": {
          "base_uri": "https://localhost:8080/"
        },
        "id": "LPmK4uHEh4Vk",
        "outputId": "2bc50741-9059-4ae6-efc1-b081da771ab9"
      },
      "source": [
        "nltk.download('stopwords')"
      ],
      "execution_count": 51,
      "outputs": [
        {
          "output_type": "stream",
          "text": [
            "[nltk_data] Downloading package stopwords to /root/nltk_data...\n",
            "[nltk_data]   Unzipping corpora/stopwords.zip.\n"
          ],
          "name": "stdout"
        },
        {
          "output_type": "execute_result",
          "data": {
            "text/plain": [
              "True"
            ]
          },
          "metadata": {
            "tags": []
          },
          "execution_count": 51
        }
      ]
    },
    {
      "cell_type": "code",
      "metadata": {
        "id": "Luclvpj5h5aR"
      },
      "source": [
        "import string\r\n",
        "from nltk.corpus import stopwords"
      ],
      "execution_count": 52,
      "outputs": []
    },
    {
      "cell_type": "code",
      "metadata": {
        "colab": {
          "base_uri": "https://localhost:8080/"
        },
        "id": "rRKI923Fh9Cl",
        "outputId": "0e68eb72-ad28-46e7-98c5-a292b88e1ec4"
      },
      "source": [
        "stopwords.words('english')"
      ],
      "execution_count": 53,
      "outputs": [
        {
          "output_type": "execute_result",
          "data": {
            "text/plain": [
              "['i',\n",
              " 'me',\n",
              " 'my',\n",
              " 'myself',\n",
              " 'we',\n",
              " 'our',\n",
              " 'ours',\n",
              " 'ourselves',\n",
              " 'you',\n",
              " \"you're\",\n",
              " \"you've\",\n",
              " \"you'll\",\n",
              " \"you'd\",\n",
              " 'your',\n",
              " 'yours',\n",
              " 'yourself',\n",
              " 'yourselves',\n",
              " 'he',\n",
              " 'him',\n",
              " 'his',\n",
              " 'himself',\n",
              " 'she',\n",
              " \"she's\",\n",
              " 'her',\n",
              " 'hers',\n",
              " 'herself',\n",
              " 'it',\n",
              " \"it's\",\n",
              " 'its',\n",
              " 'itself',\n",
              " 'they',\n",
              " 'them',\n",
              " 'their',\n",
              " 'theirs',\n",
              " 'themselves',\n",
              " 'what',\n",
              " 'which',\n",
              " 'who',\n",
              " 'whom',\n",
              " 'this',\n",
              " 'that',\n",
              " \"that'll\",\n",
              " 'these',\n",
              " 'those',\n",
              " 'am',\n",
              " 'is',\n",
              " 'are',\n",
              " 'was',\n",
              " 'were',\n",
              " 'be',\n",
              " 'been',\n",
              " 'being',\n",
              " 'have',\n",
              " 'has',\n",
              " 'had',\n",
              " 'having',\n",
              " 'do',\n",
              " 'does',\n",
              " 'did',\n",
              " 'doing',\n",
              " 'a',\n",
              " 'an',\n",
              " 'the',\n",
              " 'and',\n",
              " 'but',\n",
              " 'if',\n",
              " 'or',\n",
              " 'because',\n",
              " 'as',\n",
              " 'until',\n",
              " 'while',\n",
              " 'of',\n",
              " 'at',\n",
              " 'by',\n",
              " 'for',\n",
              " 'with',\n",
              " 'about',\n",
              " 'against',\n",
              " 'between',\n",
              " 'into',\n",
              " 'through',\n",
              " 'during',\n",
              " 'before',\n",
              " 'after',\n",
              " 'above',\n",
              " 'below',\n",
              " 'to',\n",
              " 'from',\n",
              " 'up',\n",
              " 'down',\n",
              " 'in',\n",
              " 'out',\n",
              " 'on',\n",
              " 'off',\n",
              " 'over',\n",
              " 'under',\n",
              " 'again',\n",
              " 'further',\n",
              " 'then',\n",
              " 'once',\n",
              " 'here',\n",
              " 'there',\n",
              " 'when',\n",
              " 'where',\n",
              " 'why',\n",
              " 'how',\n",
              " 'all',\n",
              " 'any',\n",
              " 'both',\n",
              " 'each',\n",
              " 'few',\n",
              " 'more',\n",
              " 'most',\n",
              " 'other',\n",
              " 'some',\n",
              " 'such',\n",
              " 'no',\n",
              " 'nor',\n",
              " 'not',\n",
              " 'only',\n",
              " 'own',\n",
              " 'same',\n",
              " 'so',\n",
              " 'than',\n",
              " 'too',\n",
              " 'very',\n",
              " 's',\n",
              " 't',\n",
              " 'can',\n",
              " 'will',\n",
              " 'just',\n",
              " 'don',\n",
              " \"don't\",\n",
              " 'should',\n",
              " \"should've\",\n",
              " 'now',\n",
              " 'd',\n",
              " 'll',\n",
              " 'm',\n",
              " 'o',\n",
              " 're',\n",
              " 've',\n",
              " 'y',\n",
              " 'ain',\n",
              " 'aren',\n",
              " \"aren't\",\n",
              " 'couldn',\n",
              " \"couldn't\",\n",
              " 'didn',\n",
              " \"didn't\",\n",
              " 'doesn',\n",
              " \"doesn't\",\n",
              " 'hadn',\n",
              " \"hadn't\",\n",
              " 'hasn',\n",
              " \"hasn't\",\n",
              " 'haven',\n",
              " \"haven't\",\n",
              " 'isn',\n",
              " \"isn't\",\n",
              " 'ma',\n",
              " 'mightn',\n",
              " \"mightn't\",\n",
              " 'mustn',\n",
              " \"mustn't\",\n",
              " 'needn',\n",
              " \"needn't\",\n",
              " 'shan',\n",
              " \"shan't\",\n",
              " 'shouldn',\n",
              " \"shouldn't\",\n",
              " 'wasn',\n",
              " \"wasn't\",\n",
              " 'weren',\n",
              " \"weren't\",\n",
              " 'won',\n",
              " \"won't\",\n",
              " 'wouldn',\n",
              " \"wouldn't\"]"
            ]
          },
          "metadata": {
            "tags": []
          },
          "execution_count": 53
        }
      ]
    },
    {
      "cell_type": "code",
      "metadata": {
        "colab": {
          "base_uri": "https://localhost:8080/"
        },
        "id": "Yss0uVNBiAUN",
        "outputId": "d84c7bfb-eb93-46c9-fa17-438aa62b3f21"
      },
      "source": [
        "[punc for punc in string.punctuation]"
      ],
      "execution_count": 54,
      "outputs": [
        {
          "output_type": "execute_result",
          "data": {
            "text/plain": [
              "['!',\n",
              " '\"',\n",
              " '#',\n",
              " '$',\n",
              " '%',\n",
              " '&',\n",
              " \"'\",\n",
              " '(',\n",
              " ')',\n",
              " '*',\n",
              " '+',\n",
              " ',',\n",
              " '-',\n",
              " '.',\n",
              " '/',\n",
              " ':',\n",
              " ';',\n",
              " '<',\n",
              " '=',\n",
              " '>',\n",
              " '?',\n",
              " '@',\n",
              " '[',\n",
              " '\\\\',\n",
              " ']',\n",
              " '^',\n",
              " '_',\n",
              " '`',\n",
              " '{',\n",
              " '|',\n",
              " '}',\n",
              " '~']"
            ]
          },
          "metadata": {
            "tags": []
          },
          "execution_count": 54
        }
      ]
    },
    {
      "cell_type": "code",
      "metadata": {
        "colab": {
          "base_uri": "https://localhost:8080/",
          "height": 534
        },
        "id": "nFgex7TfiDqe",
        "outputId": "8f5a17d4-ad92-4ffc-b7b2-7231bbbac6f8"
      },
      "source": [
        "df.head()"
      ],
      "execution_count": 55,
      "outputs": [
        {
          "output_type": "execute_result",
          "data": {
            "text/html": [
              "<div>\n",
              "<style scoped>\n",
              "    .dataframe tbody tr th:only-of-type {\n",
              "        vertical-align: middle;\n",
              "    }\n",
              "\n",
              "    .dataframe tbody tr th {\n",
              "        vertical-align: top;\n",
              "    }\n",
              "\n",
              "    .dataframe thead th {\n",
              "        text-align: right;\n",
              "    }\n",
              "</style>\n",
              "<table border=\"1\" class=\"dataframe\">\n",
              "  <thead>\n",
              "    <tr style=\"text-align: right;\">\n",
              "      <th></th>\n",
              "      <th>InvoiceNo</th>\n",
              "      <th>StockCode</th>\n",
              "      <th>Description</th>\n",
              "      <th>Quantity</th>\n",
              "      <th>InvoiceDate</th>\n",
              "      <th>UnitPrice</th>\n",
              "      <th>CustomerID</th>\n",
              "      <th>Country</th>\n",
              "      <th>Day</th>\n",
              "      <th>year</th>\n",
              "      <th>month_num</th>\n",
              "      <th>day_num</th>\n",
              "      <th>hour</th>\n",
              "      <th>minute</th>\n",
              "      <th>Amount</th>\n",
              "      <th>Month</th>\n",
              "      <th>Time_type</th>\n",
              "    </tr>\n",
              "  </thead>\n",
              "  <tbody>\n",
              "    <tr>\n",
              "      <th>0</th>\n",
              "      <td>536365</td>\n",
              "      <td>85123A</td>\n",
              "      <td>WHITE HANGING HEART T-LIGHT HOLDER</td>\n",
              "      <td>6</td>\n",
              "      <td>2010-12-01 08:26:00</td>\n",
              "      <td>2.55</td>\n",
              "      <td>17850.0</td>\n",
              "      <td>United Kingdom</td>\n",
              "      <td>Wednesday</td>\n",
              "      <td>2010</td>\n",
              "      <td>12</td>\n",
              "      <td>1</td>\n",
              "      <td>8</td>\n",
              "      <td>26</td>\n",
              "      <td>15.30</td>\n",
              "      <td>December</td>\n",
              "      <td>Morning</td>\n",
              "    </tr>\n",
              "    <tr>\n",
              "      <th>1</th>\n",
              "      <td>536365</td>\n",
              "      <td>71053</td>\n",
              "      <td>WHITE METAL LANTERN</td>\n",
              "      <td>6</td>\n",
              "      <td>2010-12-01 08:26:00</td>\n",
              "      <td>3.39</td>\n",
              "      <td>17850.0</td>\n",
              "      <td>United Kingdom</td>\n",
              "      <td>Wednesday</td>\n",
              "      <td>2010</td>\n",
              "      <td>12</td>\n",
              "      <td>1</td>\n",
              "      <td>8</td>\n",
              "      <td>26</td>\n",
              "      <td>20.34</td>\n",
              "      <td>December</td>\n",
              "      <td>Morning</td>\n",
              "    </tr>\n",
              "    <tr>\n",
              "      <th>2</th>\n",
              "      <td>536365</td>\n",
              "      <td>84406B</td>\n",
              "      <td>CREAM CUPID HEARTS COAT HANGER</td>\n",
              "      <td>8</td>\n",
              "      <td>2010-12-01 08:26:00</td>\n",
              "      <td>2.75</td>\n",
              "      <td>17850.0</td>\n",
              "      <td>United Kingdom</td>\n",
              "      <td>Wednesday</td>\n",
              "      <td>2010</td>\n",
              "      <td>12</td>\n",
              "      <td>1</td>\n",
              "      <td>8</td>\n",
              "      <td>26</td>\n",
              "      <td>22.00</td>\n",
              "      <td>December</td>\n",
              "      <td>Morning</td>\n",
              "    </tr>\n",
              "    <tr>\n",
              "      <th>3</th>\n",
              "      <td>536365</td>\n",
              "      <td>84029G</td>\n",
              "      <td>KNITTED UNION FLAG HOT WATER BOTTLE</td>\n",
              "      <td>6</td>\n",
              "      <td>2010-12-01 08:26:00</td>\n",
              "      <td>3.39</td>\n",
              "      <td>17850.0</td>\n",
              "      <td>United Kingdom</td>\n",
              "      <td>Wednesday</td>\n",
              "      <td>2010</td>\n",
              "      <td>12</td>\n",
              "      <td>1</td>\n",
              "      <td>8</td>\n",
              "      <td>26</td>\n",
              "      <td>20.34</td>\n",
              "      <td>December</td>\n",
              "      <td>Morning</td>\n",
              "    </tr>\n",
              "    <tr>\n",
              "      <th>4</th>\n",
              "      <td>536365</td>\n",
              "      <td>84029E</td>\n",
              "      <td>RED WOOLLY HOTTIE WHITE HEART.</td>\n",
              "      <td>6</td>\n",
              "      <td>2010-12-01 08:26:00</td>\n",
              "      <td>3.39</td>\n",
              "      <td>17850.0</td>\n",
              "      <td>United Kingdom</td>\n",
              "      <td>Wednesday</td>\n",
              "      <td>2010</td>\n",
              "      <td>12</td>\n",
              "      <td>1</td>\n",
              "      <td>8</td>\n",
              "      <td>26</td>\n",
              "      <td>20.34</td>\n",
              "      <td>December</td>\n",
              "      <td>Morning</td>\n",
              "    </tr>\n",
              "  </tbody>\n",
              "</table>\n",
              "</div>"
            ],
            "text/plain": [
              "  InvoiceNo StockCode  ...     Month  Time_type\n",
              "0    536365    85123A  ...  December    Morning\n",
              "1    536365     71053  ...  December    Morning\n",
              "2    536365    84406B  ...  December    Morning\n",
              "3    536365    84029G  ...  December    Morning\n",
              "4    536365    84029E  ...  December    Morning\n",
              "\n",
              "[5 rows x 17 columns]"
            ]
          },
          "metadata": {
            "tags": []
          },
          "execution_count": 55
        }
      ]
    },
    {
      "cell_type": "markdown",
      "metadata": {
        "id": "1RAqywqEiNzC"
      },
      "source": [
        "##**Let us write a function which removes punctuation and stopwords from our data**"
      ]
    },
    {
      "cell_type": "code",
      "metadata": {
        "id": "yPQv-XZViH0J"
      },
      "source": [
        "def text_process(msg):\r\n",
        "    nopunc =[char for char in msg if char not in string.punctuation]\r\n",
        "    nopunc=''.join(nopunc)\r\n",
        "    return ' '.join([word for word in nopunc.split() if word.lower() not in stopwords.words('english')])"
      ],
      "execution_count": 56,
      "outputs": []
    },
    {
      "cell_type": "code",
      "metadata": {
        "id": "WATdlOgNiTjH"
      },
      "source": [
        "df['Tokenized_Description'] = df['Description'].apply(text_process)"
      ],
      "execution_count": 57,
      "outputs": []
    },
    {
      "cell_type": "code",
      "metadata": {
        "id": "TitZJ2WUiXcO"
      },
      "source": [
        "vectorizer = TfidfVectorizer()\r\n",
        "X = vectorizer.fit_transform(df['Tokenized_Description'])"
      ],
      "execution_count": 58,
      "outputs": []
    },
    {
      "cell_type": "code",
      "metadata": {
        "colab": {
          "base_uri": "https://localhost:8080/"
        },
        "id": "2BJVTlE2id6O",
        "outputId": "f4aae74b-05e0-44c2-d389-98d2fcfaeca4"
      },
      "source": [
        "X.toarray()"
      ],
      "execution_count": 59,
      "outputs": [
        {
          "output_type": "execute_result",
          "data": {
            "text/plain": [
              "array([[0., 0., 0., ..., 0., 0., 0.],\n",
              "       [0., 0., 0., ..., 0., 0., 0.],\n",
              "       [0., 0., 0., ..., 0., 0., 0.],\n",
              "       ...,\n",
              "       [0., 0., 0., ..., 0., 0., 0.],\n",
              "       [0., 0., 0., ..., 0., 0., 0.],\n",
              "       [0., 0., 0., ..., 0., 0., 0.]])"
            ]
          },
          "metadata": {
            "tags": []
          },
          "execution_count": 59
        }
      ]
    },
    {
      "cell_type": "code",
      "metadata": {
        "colab": {
          "base_uri": "https://localhost:8080/"
        },
        "id": "DuCK494LieoF",
        "outputId": "e22e0bf6-5cbe-48ac-8e48-3d7d2f98338c"
      },
      "source": [
        "print(vectorizer.get_feature_names())"
      ],
      "execution_count": 60,
      "outputs": [
        {
          "output_type": "stream",
          "text": [
            "['10', '11', '12', '120cm', '125g', '15', '15c', '15cm', '16', '16x16cm', '17080', '18m', '18pc', '20', '200', '20light', '21', '23', '24', '250g', '25w', '25x24x12cm', '30', '30cm', '30cmx30cm', '34x20cm', '35', '35g', '36', '3d', '40', '40cm', '40x40cm', '42neckl', '45cm', '45x30cm', '45x45cm', '50', '500g', '50cm', '50s', '60', '60cm', '60x40cm', '65cmx65cm', '6pc', '70s', '72', '75', '78', 'a4', 'a5', 'a6', 'a7', 'abc', 'abstract', 'acapulco', 'account', 'acrylic', 'address', 'ade', 'adult', 'advent', 'afghan', 'aged', 'ahoy', 'aid', 'air', 'airline', 'airmail', 'alarm', 'album', 'allium', 'alphabet', 'alpine', 'aluminium', 'amber', 'amelie', 'amethyst', 'anemone', 'angel', 'angelpink', 'angels', 'animal', 'animals', 'ant', 'antique', 'antoienett', 'antoinette', 'aperitif', 'apothecary', 'apple', 'apples', 'apron', 'aqua', 'area', 'army', 'art', 'articulated', 'artificial', 'artiifcial', 'artonly', 'ashtray', 'ashtrayrevolutionary', 'ass', 'assorted', 'asst', 'asstd', 'babushka', 'baby', 'back', 'backpack', 'bad', 'badges', 'bag', 'bags', 'bain', 'bake', 'bakelike', 'baker', 'baking', 'ball', 'balloon', 'balloons', 'balls', 'balm', 'bamboo', 'band', 'bangle', 'bank', 'banner', 'banquet', 'bar', 'barn', 'baroque', 'baroquecandlestick', 'barrel', 'barrier', 'base', 'baseball', 'basil', 'basin', 'basket', 'baskets', 'bath', 'bathroom', 'baths', 'battery', 'bauble', 'baubles', 'bazaar', 'bdraw', 'bea', 'beach', 'bead', 'beaded', 'beads', 'beak', 'beaker', 'beakers', 'bear', 'beaten', 'beautiful', 'beauty', 'bed', 'bedroom', 'bedside', 'bee', 'beetles', 'bell', 'belle', 'bells', 'bendy', 'berries', 'bertie', 'best', 'beurre', 'beware', 'bfly', 'bib', 'bicycle', 'big', 'bili', 'bill', 'billboard', 'bin', 'bingo', 'bird', 'birdcage', 'birdhouse', 'birdie', 'birds', 'birdy', 'birthday', 'biscuit', 'biscuits', 'bitty', 'black', 'blackblue', 'blackboard', 'blackchristmas', 'blacksilver', 'blackwhite', 'blank', 'bling', 'blkwhit', 'block', 'blocks', 'blond', 'blood', 'blossom', 'blue', 'blueberry', 'bluecream', 'bluegreen', 'bluenat', 'blues', 'blueyellow', 'board', 'bobbles', 'bohemian', 'bomb', 'bon', 'bonbon', 'bonbons', 'bone', 'bonheur', 'bonne', 'book', 'bookcover', 'books', 'boom', 'boot', 'booze', 'botanical', 'botanique', 'bottle', 'bottles', 'boudicca', 'boudoir', 'bouquet', 'bow', 'bowl', 'bowls', 'bows', 'box', 'box12', 'boxed', 'boxes', 'boxfunky', 'boy', 'boys', 'bracelet', 'braclet', 'branch', 'brass', 'bread', 'breakfast', 'briar', 'bridge', 'bright', 'brocade', 'brocante', 'bronze', 'brooch', 'brown', 'brush', 'bubble', 'bubblegum', 'bubbles', 'bucket', 'budah', 'buddha', 'buffalo', 'building', 'bulb', 'bull', 'bullet', 'bum', 'bundle', 'bunnies', 'bunny', 'bunting', 'burgundy', 'burner', 'burst', 'bus', 'busy', 'butter', 'butterfiles', 'butterfl', 'butterflies', 'butterfliespink', 'butterfly', 'butterflycrystal', 'button', 'buttons', 'cabin', 'cabinet', 'cacti', 'cactus', 'caddy', 'cadet', 'cafe', 'cage', 'cake', 'cakes', 'cakestand', 'calculator', 'calendar', 'calm', 'camden', 'camembert', 'camo', 'camouflage', 'campagne', 'camphor', 'camping', 'candelabra', 'candle', 'candleholder', 'candleincense', 'candlepot', 'candles', 'candlestand', 'candlestick', 'candy', 'candystuft', 'cannabis', 'cannister', 'cant', 'canvas', 'cap', 'capiz', 'car', 'caravan', 'card', 'cardholder', 'cardpack12', 'cards', 'cardsquare', 'carlo', 'carnival', 'carousel', 'carpet', 'carriage', 'carrier', 'carrot', 'carry', 'carryall', 'cars', 'cartoon', 'case', 'cases', 'cashcarry', 'cast', 'cat', 'catch', 'cats', 'ccover', 'cd', 'ceature', 'celebration', 'century', 'ceramic', 'chain', 'chainthe', 'chair', 'chalet', 'chalice', 'chalk', 'chalkboard', 'chambre', 'champagne', 'champion', 'chandelier', 'charge', 'charger', 'charges', 'charlie', 'charlielola', 'charlielolaextremely', 'charlotte', 'charm', 'charms', 'chart', 'chasing', 'chateau', 'check', 'cheese', 'chenille', 'cherry', 'cherub', 'chest', 'chests', 'chic', 'chick', 'chicken', 'chicks', 'childhood', 'children', 'childrens', 'childs', 'chilli', 'chime', 'china', 'chinese', 'chives', 'choc', 'chocblue', 'chocolate', 'chocolatecandle', 'chocolates', 'choice', 'choker', 'chopping', 'chopsticks', 'christmas', 'chrome', 'chrysanthemum', 'chrysanthemums', 'chunky', 'cigar', 'cinammon', 'cinderella', 'cinnamon', 'circle', 'circles', 'circular', 'circus', 'citronella', 'citrus', 'claire', 'clam', 'class', 'classic', 'classical', 'clay', 'clean', 'clear', 'climbing', 'clip', 'clips', 'cloche', 'clock', 'closed', 'cloth', 'clothes', 'cluster', 'coaster', 'coasterelvis', 'coasters', 'coat', 'coathanger', 'cockerel', 'cockle', 'cocktail', 'coconut', 'coffee', 'col', 'colander', 'collage', 'colour', 'coloured', 'colourful', 'colouring', 'colours', 'columbian', 'comb', 'come', 'compact', 'condiment', 'cone', 'cones', 'coney', 'confectionery', 'confetti', 'confusing', 'congratulations', 'container', 'cook', 'cookie', 'cooking', 'copper', 'copperolive', 'cordial', 'cordon', 'corer', 'cornice', 'corona', 'cosmetic', 'cosmetics', 'cosy', 'cote', 'cottage', 'cotton', 'country', 'covent', 'cover', 'cowboy', 'cowboys', 'cracked', 'cracker', 'crackers', 'crackle', 'craft', 'crate', 'crates', 'crawlie', 'crawlies', 'crayons', 'crazy', 'cream', 'creatures', 'creepy', 'crested', 'crochet', 'crome', 'croquet', 'cross', 'crossbones', 'crosses', 'crowns', 'crusoe', 'crystal', 'crystalglass', 'crystals', 'cube', 'cubes', 'cubic', 'cup', 'cupboard', 'cupcake', 'cupcakes', 'cupid', 'cups', 'curio', 'curious', 'curtain', 'cushion', 'cushions', 'cut', 'cute', 'cutlery', 'cutter', 'cutters', 'czech', 'dad', 'dads', 'dairy', 'daisies', 'daisy', 'danish', 'dark', 'day', 'days', 'dazure', 'de', 'dec', 'deco', 'decoration', 'decorations', 'decorative', 'decoupage', 'decoupagegreeting', 'decowhite', 'decrotivevintage', 'delight', 'delphinium', 'deluxe', 'demi', 'denim', 'des', 'design', 'designs', 'desk', 'dia', 'diamante', 'diamon', 'diamond', 'diet', 'digestive', 'digitalis', 'diner', 'dinner', 'dinosaur', 'dinosaurs', 'disc', 'discmirror', 'disco', 'dish', 'dispenser', 'display', 'disposable', 'diva', 'doc', 'doctors', 'dof', 'dog', 'doggy', 'dogs', 'doiley', 'doilies', 'doily', 'doll', 'dollcraft', 'dolly', 'dolphin', 'dolphins', 'dominoes', 'donkey', 'door', 'doorbell', 'doorknob', 'doormat', 'doors', 'doorsign', 'doorstop', 'dot', 'dotcom', 'dotcomgiftshop', 'dots', 'double', 'doughnut', 'doughnuts', 'dove', 'dovecote', 'dragon', 'dragonfly', 'dragons', 'draw', 'drawer', 'drawerknob', 'drawers', 'drawing', 'drawstring', 'dream', 'dreams', 'dress', 'dressing', 'drink', 'drop', 'droplet', 'du', 'duck', 'ducks', 'dusty', 'dutch', 'ear', 'earring', 'earrings', 'earth', 'easter', 'eau', 'economy', 'edge', 'edwardian', 'egg', 'eggs', 'eight', 'elegant', 'elephant', 'elixir', 'elvis', 'embossed', 'embroidered', 'embroidery', 'emergency', 'emily', 'empire', 'en', 'enamel', 'enamelglass', 'enchanted', 'enfants', 'enginecar', 'england', 'english', 'engraved', 'envelope', 'envelopes', 'eraser', 'erasers', 'essential', 'etched', 'eucalyptus', 'evening', 'exercise', 'expandable', 'eye', 'fabric', 'face', 'faceted', 'fair', 'fairy', 'fairy5', 'family', 'fan', 'fancy', 'fannys', 'farm', 'farmyard', 'farthing', 'fashion', 'fauna', 'faux', 'favourites', 'fawn', 'feather', 'feathers', 'feeder', 'feeding', 'felt', 'feltcraft', 'feng', 'fern', 'field', 'fields', 'figures', 'filigree', 'filigris', 'filler', 'fine', 'finger', 'finish', 'fire', 'first', 'fishing', 'five', 'flag', 'flags', 'flame', 'flames', 'flannel', 'flask', 'flock', 'floor', 'flora', 'floral', 'flore', 'flowe', 'flower', 'flowerbutterfly', 'flowerpot', 'flowerpower', 'flowers', 'flowr', 'flu', 'fluffy', 'fluted', 'fly', 'flying', 'flytrap', 'fob', 'foil', 'folding', 'folk', 'folkart', 'fondant', 'font', 'fonts', 'food', 'fooddrink', 'foot', 'football', 'footprints', 'forest', 'fork', 'forked', 'forties', 'four', 'foxglove', 'foxy', 'fragrance', 'frame', 'frames', 'france', 'frangipani', 'frappucino', 'freestyle', 'french', 'fresh', 'freshwater', 'fridge', 'friends', 'frieze', 'frill', 'fringe', 'frog', 'front', 'frost', 'frosted', 'fruit', 'fruitbowl', 'fruitflowers', 'fruits', 'frutti', 'frying', 'full', 'fun', 'funky', 'funny', 'fur', 'fuschia', 'game', 'games', 'gaolers', 'garage', 'garden', 'gardeners', 'gardenia', 'gardens', 'garland', 'garld', 'gauze', 'gazebo', 'gebra', 'gecko', 'geisha', 'gel', 'gems', 'gemstone', 'gentleman', 'gentlemen', 'gents', 'geometric', 'george', 'georgian', 'gerden', 'ghost', 'giant', 'gift', 'gin', 'gingerbread', 'gingham', 'giraffe', 'girl', 'girls', 'girly', 'glamorous', 'glamour', 'glass', 'glassbead', 'glasses', 'glassshellpearl', 'glasssilver', 'glasszinc', 'glaze', 'gliders', 'glitter', 'globe', 'gloss', 'glove', 'gloves', 'glow', 'glowing', 'gnome', 'go', 'goblet', 'gold', 'goldamber', 'goldfish', 'goldie', 'goldmop', 'goose', 'gordon', 'grand', 'grass', 'green', 'greenblue', 'greens', 'greeting', 'grey', 'grinder', 'grip', 'grocery', 'groovy', 'grow', 'growing', 'guard', 'guitar', 'gum', 'gumball', 'guns', 'gymkhana', 'gymkhanna', 'hair', 'hairband', 'hairbands', 'hairclip', 'hairclips', 'hairslide', 'hall', 'halloween', 'hammered', 'hammock', 'hamper', 'hand', 'handbag', 'handle', 'hanger', 'hangers', 'hanging', 'happy', 'hardman', 'hare', 'harmonica', 'hat', 'hawaiian', 'head', 'headphones', 'heads', 'heart', 'hearticecream', 'hearts', 'heat', 'heavens', 'heidi', 'height', 'helga', 'helicopter', 'hello', 'hen', 'henchicks', 'henrietta', 'hensflower', 'herb', 'herbs', 'hexagon', 'hi', 'hibiscus', 'high', 'highlighter', 'hilda', 'hill', 'hippy', 'hldr', 'hold', 'holder', 'holders', 'hole', 'holiday', 'holly', 'home', 'homemade', 'honeycomb', 'hook', 'hooks', 'hoop', 'hopper', 'horse', 'hostess', 'hot', 'hottie', 'hour', 'house', 'housekeeping', 'housework', 'hunt', 'hurricane', 'hut', 'hyacinth', 'hydranga', 'hydrangea', 'ice', 'icicle', 'icon', 'illustrated', 'im', 'image', 'images', 'incense', 'incensecand', 'incensecandl', 'incensecandle', 'incenseflower', 'indians', 'inflatable', 'ingrid', 'instrument', 'invites', 'iron', 'ironing', 'island', 'ivory', 'ivoryred', 'ivy', 'jack', 'jade', 'jam', 'jampot', 'jar', 'jardin', 'jardiniere', 'jars', 'jasmine', 'jazz', 'jeanpaul', 'jelly', 'jet', 'jewel', 'jewelblue', 'jeweled', 'jewelled', 'jewellery', 'jewelpink', 'jigsaw', 'jingle', 'journal', 'joy', 'jubilee', 'jug', 'juicy', 'jumbo', 'jungle', 'junk', 'kashmir', 'kashmiri', 'keep', 'keepsake', 'kensington', 'key', 'keychains', 'keyring', 'keyrings', 'keys', 'kid', 'kids', 'king', 'kings', 'kit', 'kitchen', 'kittens', 'kitty', 'knack', 'kneeling', 'knick', 'knickerbockerglory', 'knitted', 'knitting', 'knob', 'kukui', 'la', 'labels', 'lace', 'ladder', 'ladders', 'ladies', 'ladle', 'lads', 'ladybird', 'lamp', 'lampshade', 'landmark', 'lantern', 'lanterns', 'laquered', 'large', 'lariat', 'las', 'laser', 'lattice', 'laundry', 'laurel', 'lavender', 'lazer', 'le', 'leaf', 'leap', 'leave', 'leaves', 'led', 'legs', 'leis', 'lenses', 'les', 'lets', 'letter', 'letters', 'level', 'licence', 'licorice', 'lid', 'lids', 'life', 'light', 'lightbulb', 'lighthouse', 'lights', 'lightsfunk', 'lilac', 'lilacred', 'lily', 'lime', 'line', 'linen', 'liners', 'lip', 'lipstick', 'list', 'little', 'lives', 'livingroom', 'lizard', 'loaf', 'lobster', 'local', 'lola', 'lolita', 'lolly', 'london', 'long', 'longboard', 'looking', 'lounge', 'loungemetal', 'love', 'lovebird', 'lovebirds', 'lovehate', 'loveheart', 'lovely', 'loves', 'lt', 'ltblue', 'lucky', 'ludo', 'luggage', 'lunch', 'lush', 'mac', 'madeline', 'madras', 'magazine', 'magic', 'magnet', 'magnetic', 'magnets', 'maid', 'maids', 'mail', 'make', 'makers', 'making', 'man', 'manual', 'mao', 'marbles', 'maria', 'marie', 'mark', 'marker', 'market', 'marmalade', 'marshmallow', 'marshmallows', 'masala', 'mat', 'match', 'matches', 'maxwell', 'mcolour', 'meadow', 'measure', 'measuring', 'med', 'medicine', 'medina', 'medium', 'melamine', 'memo', 'memoboard', 'memories', 'memory', 'merry', 'message', 'metal', 'metalic', 'meter', 'metre', 'mexican', 'mice', 'microwave', 'mid', 'midnight', 'milk', 'milkmaid', 'milkshake', 'mini', 'miniature', 'miniture', 'mint', 'miror', 'mirror', 'mirrored', 'miseltoe', 'mistletoe', 'mitt', 'mittens', 'mix', 'mixed', 'mixing', 'mixture', 'mobile', 'mock', 'mod', 'modelling', 'modern', 'molly', 'money', 'monkey', 'monochrome', 'monsoon', 'monster', 'monsters', 'montan', 'montana', 'monte', 'moody', 'moon', 'mop', 'moroccan', 'morris', 'mosaic', 'mothers', 'motorbike', 'motoring', 'mould', 'moulds', 'mouse', 'mousey', 'mr', 'mrs', 'muff', 'mug', 'mugs', 'multi', 'multicol', 'multicolour', 'mum', 'mummy', 'mums', 'murano', 'mushroom', 'mushrooms', 'musical', 'n0', 'namaste', 'nancy', 'napkin', 'napkins', 'nativity', 'natural', 'nature', 'naughts', 'naughty', 'neckl', 'neckl36amethyst', 'neckl36black', 'neckl36blue', 'neckl36green', 'neckl36turquois', 'necklac', 'necklace', 'necklacebracelet', 'necklaceleaf', 'needle', 'neighbourhood', 'nest', 'nesting', 'netting', 'new', 'newspaper', 'next', 'nicole', 'night', 'nightlight', 'nil', 'nile', 'nine', 'ninja', 'noel', 'note', 'notebook', 'notebooks', 'notelets', 'notepad', 'notting', 'novelty', 'number', 'nursery', 'nurses', 'nut', 'nuts', 'occupied', 'ocean', 'octagon', 'of4', 'office', 'oil', 'oils', 'ol', 'old', 'olive', 'olivia', 'ollie', 'one', 'opal', 'open', 'opener', 'operated', 'opium', 'orange', 'orangewhtfuschia', 'orbit', 'organdy', 'organiser', 'oriental', 'origami', 'ornament', 'oval', 'oven', 'overcrowded', 'overnight', 'owl', 'owls', 'oxford', 'oyster', 'pack', 'pack12', 'pack2', 'packing', 'pad', 'padded', 'pads', 'page', 'paint', 'painted', 'pair', 'paisely', 'paisley', 'pale', 'palmiera', 'pan', 'pancake', 'panda', 'panettone', 'pannetone', 'pantry', 'pants', 'paper', 'paperweight', 'parade', 'parasol', 'parasols', 'parcel', 'paris', 'parisienne', 'park', 'parlour', 'parsley', 'party', 'passport', 'pastel', 'pastry', 'patch', 'patches', 'patchwork', 'path', 'patrolled', 'pattern', 'patterns', 'pc', 'peace', 'peach', 'peacock', 'pear', 'pearl', 'pearlised', 'pearls', 'pears', 'pebble', 'pedestal', 'peg', 'pegs', 'pen', 'pencil', 'pencils', 'pencoal', 'pendant', 'penhot', 'penlight', 'pennant', 'penny', 'pens', 'peony', 'pepper', 'perfectly', 'perfume', 'peridot', 'periwinkle', 'person', 'personal', 'pet', 'petals', 'petit', 'pharmacie', 'phone', 'photo', 'photoframe', 'pick', 'picnic', 'picture', 'piece', 'pieces', 'pig', 'piggy', 'pill', 'pillar', 'pin', 'pinecone', 'ping', 'pink', 'pinkamethyst', 'pinkamethystgold', 'pinkblue', 'pinkflower', 'pinkgreen', 'pinkpurple', 'pinks', 'pinkwhite', 'pinkyellow', 'pirate', 'pistachio', 'pizza', 'place', 'placemat', 'placemats', 'planet', 'plant', 'planter', 'planters', 'plaque', 'plasmatronic', 'plasters', 'plastic', 'plate', 'plates', 'platter', 'play', 'playhouse', 'playing', 'playtime', 'please', 'pocket', 'point', 'pointy', 'pole', 'polished', 'political', 'polka', 'polkadot', 'polkadots', 'polyester', 'pompom', 'poncho', 'ponies', 'pony', 'pool', 'poorly', 'pop', 'popart', 'popcorn', 'poppies', 'poppy', 'poppys', 'popsicles', 'porcelain', 'portable', 'portobello', 'portrait', 'portraits', 'posies', 'post', 'postage', 'postcard', 'poste', 'poster', 'posy', 'pot', 'potion', 'pots', 'pottering', 'potting', 'pouffe', 'pouri', 'present', 'presents', 'pretty', 'prince', 'princess', 'print', 'printed', 'provencal', 'provence', 'psychedelic', 'pudding', 'puddings', 'pump', 'pumpkin', 'punch', 'puncture', 'puppet', 'puppies', 'purdey', 'purple', 'purpleblue', 'purplecopper', 'purpleturq', 'purse', 'push', 'puzzles', 'pweight', 'quartz', 'queen', 'queens', 'quilt', 'quilted', 'rabbit', 'rabbits', 'rachel', 'racing', 'rack', 'radio', 'raffia', 'rain', 'rainbow', 'rainy', 'rake', 'raspberr', 'raspberry', 'rasta', 'rattle', 'ream', 'rebecca', 'recipe', 'record', 'rect', 'rectangle', 'rectangular', 'recycled', 'recycling', 'red', 'redblue', 'redcream', 'reds', 'redwhite', 'reel', 'refectory', 'regal', 'regatta', 'regency', 'reindeer', 'relax', 'repair', 'resin', 'resolution', 'respectable', 'rest', 'reto', 'retro', 'retrospot', 'revolutionary', 'revolver', 'rex', 'ribbed', 'ribbon', 'ribbons', 'ribs', 'ridge', 'ridged', 'rim', 'ring', 'rings', 'riviera', 'rnd', 'robin', 'robot', 'roccoco', 'rocket', 'rocking', 'rococo', 'roll', 'rolling', 'roman', 'romantic', 'room', 'rope', 'rose', 'rosebud', 'rosemary', 'roses', 'rosette', 'rosie', 'rotating', 'rotator', 'round', 'rounders', 'rubber', 'rubbers', 'ruby', 'rucksack', 'ruler', 'run', 'russel', 'russian', 'rustic', 's12', 's15', 's2', 's3', 's4', 's6', 'sack', 'safety', 'saftey', 'sage', 'sailor', 'salad', 'salle', 'sally', 'salt', 'salts', 'sand', 'sandalwood', 'sandcastle', 'sandlewood', 'sandwich', 'sanskrit', 'santa', 'santas', 'saucer', 'savannah', 'save', 'savoy', 'scales', 'scallop', 'scandinavian', 'scandispot', 'scarf', 'scent', 'scented', 'school', 'scissor', 'scissorpointed', 'scottie', 'scotties', 'scotty', 'scrap', 'screen', 'screwdriver', 'scroll', 'scrubbing', 'sculpted', 'sea', 'seafood', 'seaside', 'season', 'seat', 'secateurs', 'secret', 'seed', 'sequin', 'served', 'set', 'set10', 'set12', 'set2', 'set20', 'set3', 'set4', 'set5', 'set6', 'set9', 'setting', 'settings', 'seventeen', 'sew', 'sewing', 'sex', 'shade', 'shaggy', 'shape', 'shaped', 'shapes', 'shark', 'sharpener', 'sharpeners', 'shed', 'sheep', 'sheet', 'shelf', 'shell', 'shells', 'shelving', 'shimmering', 'shine', 'shirt', 'shoe', 'shoes', 'shop', 'shopper', 'shopping', 'shoulder', 'show', 'shower', 'shui', 'shutters', 'sideboard', 'sign', 'signcupcake', 'silicon', 'silk', 'silouette', 'silt', 'silver', 'silveramethyst', 'silverblack', 'silvercrystal', 'silvermop', 'silvernat', 'silvernatural', 'singing', 'single', 'sisters', 'sitting', 'six', 'size', 'sizes', 'sketchbook', 'skies', 'skipping', 'skippping', 'skirt', 'skittles', 'skull', 'skulls', 'sky', 'slate', 'sleeping', 'sleigh', 'slice', 'slide', 'slides', 'slipper', 'small', 'smallfolkart', 'smiley', 'smokey', 'snack', 'snake', 'snakes', 'snap', 'snow', 'snowflake', 'snowflakepink', 'snowflakes', 'snowmen', 'snowstorm', 'snowy', 'soap', 'sock', 'socks', 'soft', 'soldier', 'soldiers', 'sombrero', 'song', 'songbird', 'sophie', 'sound', 'sow', 'space', 'spaceball', 'spaceboy', 'spaceman', 'spade', 'spatula', 'speaker', 'sphere', 'spice', 'spike', 'spinning', 'spiral', 'spirit', 'spliff', 'splodges', 'sponge', 'spoon', 'spoons', 'sporting', 'spot', 'spots', 'spotted', 'spotty', 'sprig', 'spring', 'squ', 'square', 'squarecushion', 'squeezer', 'st', 'stack', 'stacking', 'stamp', 'stamped', 'stamps', 'stand', 'standing', 'star', 'starfish', 'stars', 'starstrees', 'start', 'station', 'stationery', 'steel', 'stencil', 'stick', 'sticker', 'stickers', 'sticks', 'sticky', 'stiletto', 'stitched', 'stocking', 'stone', 'stonecrystal', 'stones', 'stool', 'stop', 'stopmetal', 'stopper', 'storage', 'str', 'strainer', 'strand', 'strap', 'strawberries', 'strawberry', 'strawbery', 'strawbry', 'straws', 'street', 'string', 'stripe', 'stripes', 'stripey', 'stripy', 'strongman', 'stud', 'studded', 'stuff', 'style', 'sucker', 'suction', 'sud', 'suede', 'sugar', 'suki', 'summer', 'sundae', 'sunflower', 'sunglasses', 'sunrise', 'sunset', 'supplies', 'support', 'susan', 'susie', 'swagat', 'swallow', 'swallows', 'swat', 'sweeet', 'sweet', 'sweetheart', 'sweetie', 'sweeties', 'swinging', 'swirlglass', 'swirly', 'swiss', 'swords', 'sympathy', 'table', 'tablecloth', 'tag', 'tags', 'tail', 'tails', 'take', 'tale', 'tall', 'tape', 'taper', 'tapes', 'tassel', 'tassle', 'tattoos', 'tea', 'teacoffeesugar', 'teacup', 'tealfuschia', 'tealight', 'teapot', 'teaspoons', 'teatime', 'tec', 'teddy', 'teddycake', 'thank', 'thermometer', 'three', 'throw', 'thyme', 'tiaras', 'ticket', 'tidy', 'tie', 'tier', 'tigris', 'tile', 'tiled', 'time', 'tin', 'tins', 'tinsel', 'tiny', 'tissue', 'tissues', 'tit', 'tlight', 'tlights', 'toadstool', 'toadstools', 'toast', 'toastrack', 'toffee', 'toilet', 'toilette', 'tokyo', 'tomato', 'tone', 'tongs', 'tonic', 'tool', 'tools', 'toothpaste', 'top', 'topiary', 'tops', 'torch', 'tortilla', 'tote', 'touch', 'towel', 'towels', 'town', 'toxic', 'toy', 'toybox', 'toys', 'traditional', 'tradtional', 'tranquility', 'transfer', 'transparent', 'transport', 'travel', 'traveling', 'travelogue', 'tray', 'trays', 'treasure', 'tree', 'trees', 'trellis', 'trellistriple', 'triangular', 'trim', 'trinket', 'triobase', 'triple', 'tropez', 'tropical', 'trowel', 'truffle', 'tshirt', 'tub', 'tube', 'tumbler', 'turq', 'turqred', 'turquoise', 'tuscan', 'tutti', 'tv', 'twine', 'twist', 'two', 'ubolight', 'umbrella', 'union', 'unit', 'urban', 'us', 'utensil', 'utilty', 'vacant', 'valentine', 'vanilla', 'vase', 'vegas', 'vegetable', 'vegetables', 'velvet', 'victorian', 'vie', 'villa', 'village', 'vine', 'vint', 'vintage', 'vinyl', 'vip', 'vippassport', 'voile', 'votive', 'wake', 'wall', 'wallet', 'wallhanging', 'war', 'warmer', 'wash', 'washbag', 'washing', 'washroom', 'waste', 'wastepaper', 'water', 'watering', 'way', 'wc', 'wchime', 'wedding', 'weekend', 'welcome', 'wheelbarrow', 'whisk', 'white', 'whitepink', 'whitered', 'wick', 'wicker', 'wildflower', 'willie', 'windchime', 'windmill', 'windsock', 'wine', 'winkie', 'wire', 'wireless', 'wise', 'wish', 'wishes', 'witch', 'wknif', 'wobbly', 'women', 'wood', 'wooden', 'woodland', 'wool', 'woolly', 'word', 'work', 'world', 'woven', 'wrap', 'wrapping', 'wreath', 'wrecking', 'writing', 'wsuck', 'wsucker', 'xmas', 'yellow', 'yellowblue', 'yelloworange', 'yellowpink', 'youre', 'yuletide', 'zinc', 'zincglass']\n"
          ],
          "name": "stdout"
        }
      ]
    }
  ]
}